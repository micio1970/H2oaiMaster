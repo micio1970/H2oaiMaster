{
 "cells": [
  {
   "cell_type": "code",
   "execution_count": 4,
   "metadata": {
    "collapsed": false
   },
   "outputs": [
    {
     "name": "stdout",
     "output_type": "stream",
     "text": [
      " Connection successful!\n",
      "\n",
      "R is connected to the H2O cluster: \n",
      "    H2O cluster uptime:         1 minutes 53 seconds \n",
      "    H2O cluster version:        3.10.2.2 \n",
      "    H2O cluster version age:    3 months and 5 days  \n",
      "    H2O cluster name:           H2O_started_from_R_micio1970_qza861 \n",
      "    H2O cluster total nodes:    1 \n",
      "    H2O cluster total memory:   1.71 GB \n",
      "    H2O cluster total cores:    4 \n",
      "    H2O cluster allowed cores:  2 \n",
      "    H2O cluster healthy:        TRUE \n",
      "    H2O Connection ip:          localhost \n",
      "    H2O Connection port:        54321 \n",
      "    H2O Connection proxy:       NA \n",
      "    R Version:                  R version 3.3.2 (2016-10-31) \n",
      "\n",
      "  |======================================================================| 100%\n"
     ]
    }
   ],
   "source": [
    "library(h2o)\n",
    "h2o.init()\n",
    "data<-h2o.uploadFile(\"../data/wholesale_customers_data.csv\")"
   ]
  },
  {
   "cell_type": "code",
   "execution_count": 11,
   "metadata": {
    "collapsed": false
   },
   "outputs": [
    {
     "data": {
      "text/html": [
       "<table>\n",
       "<thead><tr><th scope=col>Channel</th><th scope=col>Region</th><th scope=col>Fresh</th><th scope=col>Milk</th><th scope=col>Grocery</th><th scope=col>Frozen</th><th scope=col>Detergents_Paper</th><th scope=col>Delicassen</th></tr></thead>\n",
       "<tbody>\n",
       "\t<tr><td>2    </td><td>3    </td><td>12669</td><td>9656 </td><td>7561 </td><td> 214 </td><td>2674 </td><td>1338 </td></tr>\n",
       "\t<tr><td>2    </td><td>3    </td><td> 7057</td><td>9810 </td><td>9568 </td><td>1762 </td><td>3293 </td><td>1776 </td></tr>\n",
       "\t<tr><td>2    </td><td>3    </td><td> 6353</td><td>8808 </td><td>7684 </td><td>2405 </td><td>3516 </td><td>7844 </td></tr>\n",
       "\t<tr><td>1    </td><td>3    </td><td>13265</td><td>1196 </td><td>4221 </td><td>6404 </td><td> 507 </td><td>1788 </td></tr>\n",
       "\t<tr><td>2    </td><td>3    </td><td>22615</td><td>5410 </td><td>7198 </td><td>3915 </td><td>1777 </td><td>5185 </td></tr>\n",
       "\t<tr><td>2    </td><td>3    </td><td> 9413</td><td>8259 </td><td>5126 </td><td> 666 </td><td>1795 </td><td>1451 </td></tr>\n",
       "</tbody>\n",
       "</table>\n"
      ],
      "text/latex": [
       "\\begin{tabular}{r|llllllll}\n",
       " Channel & Region & Fresh & Milk & Grocery & Frozen & Detergents\\_Paper & Delicassen\\\\\n",
       "\\hline\n",
       "\t 2     & 3     & 12669 & 9656  & 7561  &  214  & 2674  & 1338 \\\\\n",
       "\t 2     & 3     &  7057 & 9810  & 9568  & 1762  & 3293  & 1776 \\\\\n",
       "\t 2     & 3     &  6353 & 8808  & 7684  & 2405  & 3516  & 7844 \\\\\n",
       "\t 1     & 3     & 13265 & 1196  & 4221  & 6404  &  507  & 1788 \\\\\n",
       "\t 2     & 3     & 22615 & 5410  & 7198  & 3915  & 1777  & 5185 \\\\\n",
       "\t 2     & 3     &  9413 & 8259  & 5126  &  666  & 1795  & 1451 \\\\\n",
       "\\end{tabular}\n"
      ],
      "text/markdown": [
       "\n",
       "Channel | Region | Fresh | Milk | Grocery | Frozen | Detergents_Paper | Delicassen | \n",
       "|---|---|---|---|---|---|\n",
       "| 2     | 3     | 12669 | 9656  | 7561  |  214  | 2674  | 1338  | \n",
       "| 2     | 3     |  7057 | 9810  | 9568  | 1762  | 3293  | 1776  | \n",
       "| 2     | 3     |  6353 | 8808  | 7684  | 2405  | 3516  | 7844  | \n",
       "| 1     | 3     | 13265 | 1196  | 4221  | 6404  |  507  | 1788  | \n",
       "| 2     | 3     | 22615 | 5410  | 7198  | 3915  | 1777  | 5185  | \n",
       "| 2     | 3     |  9413 | 8259  | 5126  |  666  | 1795  | 1451  | \n",
       "\n",
       "\n"
      ],
      "text/plain": [
       "  Channel Region Fresh Milk Grocery Frozen Detergents_Paper Delicassen\n",
       "1 2       3      12669 9656 7561     214   2674             1338      \n",
       "2 2       3       7057 9810 9568    1762   3293             1776      \n",
       "3 2       3       6353 8808 7684    2405   3516             7844      \n",
       "4 1       3      13265 1196 4221    6404    507             1788      \n",
       "5 2       3      22615 5410 7198    3915   1777             5185      \n",
       "6 2       3       9413 8259 5126     666   1795             1451      "
      ]
     },
     "metadata": {},
     "output_type": "display_data"
    }
   ],
   "source": [
    "h2o.head(data)"
   ]
  },
  {
   "cell_type": "code",
   "execution_count": 12,
   "metadata": {
    "collapsed": false
   },
   "outputs": [
    {
     "data": {
      "text/html": [
       "<table>\n",
       "<thead><tr><th scope=col>Label</th><th scope=col>Type</th><th scope=col>Missing</th><th scope=col>Zeros</th><th scope=col>PosInf</th><th scope=col>NegInf</th><th scope=col>Min</th><th scope=col>Max</th><th scope=col>Mean</th><th scope=col>Sigma</th><th scope=col>Cardinality</th></tr></thead>\n",
       "<tbody>\n",
       "\t<tr><td>Channel          </td><td>enum             </td><td>0                </td><td>298              </td><td>0                </td><td>0                </td><td>0                </td><td>1                </td><td>0.322727272727273</td><td>0.468051569479114</td><td>2                </td></tr>\n",
       "\t<tr><td>Region           </td><td>enum             </td><td>0                </td><td>77               </td><td>0                </td><td>0                </td><td>0                </td><td>2                </td><td>NA               </td><td>NA               </td><td>3                </td></tr>\n",
       "\t<tr><td>Fresh            </td><td>int              </td><td>0                </td><td>0                </td><td>0                </td><td>0                </td><td>3                </td><td>112151           </td><td>12000.2977272727 </td><td>12647.3288650769 </td><td>NA               </td></tr>\n",
       "\t<tr><td>Milk             </td><td>int              </td><td>0                </td><td>0                </td><td>0                </td><td>0                </td><td>55               </td><td>73498            </td><td>5796.26590909092 </td><td>7380.37717457085 </td><td>NA               </td></tr>\n",
       "\t<tr><td>Grocery          </td><td>int              </td><td>0                </td><td>0                </td><td>0                </td><td>0                </td><td>3                </td><td>92780            </td><td>7951.27727272727 </td><td>9503.16282899435 </td><td>NA               </td></tr>\n",
       "\t<tr><td>Frozen           </td><td>int              </td><td>0                </td><td>0                </td><td>0                </td><td>0                </td><td>25               </td><td>60869            </td><td>3071.93181818182 </td><td>4854.67333259237 </td><td>NA               </td></tr>\n",
       "\t<tr><td>Detergents_Paper </td><td>int              </td><td>0                </td><td>0                </td><td>0                </td><td>0                </td><td>3                </td><td>40827            </td><td>2881.49318181818 </td><td>4767.8544479042  </td><td>NA               </td></tr>\n",
       "\t<tr><td>Delicassen       </td><td>int              </td><td>0                </td><td>0                </td><td>0                </td><td>0                </td><td>3                </td><td>47943            </td><td>1524.87045454545 </td><td>2820.1059373694  </td><td>NA               </td></tr>\n",
       "</tbody>\n",
       "</table>\n"
      ],
      "text/latex": [
       "\\begin{tabular}{r|lllllllllll}\n",
       " Label & Type & Missing & Zeros & PosInf & NegInf & Min & Max & Mean & Sigma & Cardinality\\\\\n",
       "\\hline\n",
       "\t Channel           & enum              & 0                 & 298               & 0                 & 0                 & 0                 & 1                 & 0.322727272727273 & 0.468051569479114 & 2                \\\\\n",
       "\t Region            & enum              & 0                 & 77                & 0                 & 0                 & 0                 & 2                 & NA                & NA                & 3                \\\\\n",
       "\t Fresh             & int               & 0                 & 0                 & 0                 & 0                 & 3                 & 112151            & 12000.2977272727  & 12647.3288650769  & NA               \\\\\n",
       "\t Milk              & int               & 0                 & 0                 & 0                 & 0                 & 55                & 73498             & 5796.26590909092  & 7380.37717457085  & NA               \\\\\n",
       "\t Grocery           & int               & 0                 & 0                 & 0                 & 0                 & 3                 & 92780             & 7951.27727272727  & 9503.16282899435  & NA               \\\\\n",
       "\t Frozen            & int               & 0                 & 0                 & 0                 & 0                 & 25                & 60869             & 3071.93181818182  & 4854.67333259237  & NA               \\\\\n",
       "\t Detergents\\_Paper & int                & 0                  & 0                  & 0                  & 0                  & 3                  & 40827              & 2881.49318181818   & 4767.8544479042    & NA                \\\\\n",
       "\t Delicassen        & int               & 0                 & 0                 & 0                 & 0                 & 3                 & 47943             & 1524.87045454545  & 2820.1059373694   & NA               \\\\\n",
       "\\end{tabular}\n"
      ],
      "text/markdown": [
       "\n",
       "Label | Type | Missing | Zeros | PosInf | NegInf | Min | Max | Mean | Sigma | Cardinality | \n",
       "|---|---|---|---|---|---|---|---|\n",
       "| Channel           | enum              | 0                 | 298               | 0                 | 0                 | 0                 | 1                 | 0.322727272727273 | 0.468051569479114 | 2                 | \n",
       "| Region            | enum              | 0                 | 77                | 0                 | 0                 | 0                 | 2                 | NA                | NA                | 3                 | \n",
       "| Fresh             | int               | 0                 | 0                 | 0                 | 0                 | 3                 | 112151            | 12000.2977272727  | 12647.3288650769  | NA                | \n",
       "| Milk              | int               | 0                 | 0                 | 0                 | 0                 | 55                | 73498             | 5796.26590909092  | 7380.37717457085  | NA                | \n",
       "| Grocery           | int               | 0                 | 0                 | 0                 | 0                 | 3                 | 92780             | 7951.27727272727  | 9503.16282899435  | NA                | \n",
       "| Frozen            | int               | 0                 | 0                 | 0                 | 0                 | 25                | 60869             | 3071.93181818182  | 4854.67333259237  | NA                | \n",
       "| Detergents_Paper  | int               | 0                 | 0                 | 0                 | 0                 | 3                 | 40827             | 2881.49318181818  | 4767.8544479042   | NA                | \n",
       "| Delicassen        | int               | 0                 | 0                 | 0                 | 0                 | 3                 | 47943             | 1524.87045454545  | 2820.1059373694   | NA                | \n",
       "\n",
       "\n"
      ],
      "text/plain": [
       "  Label            Type Missing Zeros PosInf NegInf Min Max   \n",
       "1 Channel          enum 0       298   0      0      0   1     \n",
       "2 Region           enum 0       77    0      0      0   2     \n",
       "3 Fresh            int  0       0     0      0      3   112151\n",
       "4 Milk             int  0       0     0      0      55  73498 \n",
       "5 Grocery          int  0       0     0      0      3   92780 \n",
       "6 Frozen           int  0       0     0      0      25  60869 \n",
       "7 Detergents_Paper int  0       0     0      0      3   40827 \n",
       "8 Delicassen       int  0       0     0      0      3   47943 \n",
       "  Mean              Sigma             Cardinality\n",
       "1 0.322727272727273 0.468051569479114 2          \n",
       "2 NA                NA                3          \n",
       "3 12000.2977272727  12647.3288650769  NA         \n",
       "4 5796.26590909092  7380.37717457085  NA         \n",
       "5 7951.27727272727  9503.16282899435  NA         \n",
       "6 3071.93181818182  4854.67333259237  NA         \n",
       "7 2881.49318181818  4767.8544479042   NA         \n",
       "8 1524.87045454545  2820.1059373694   NA         "
      ]
     },
     "metadata": {},
     "output_type": "display_data"
    }
   ],
   "source": [
    "h2o.describe(data)"
   ]
  },
  {
   "cell_type": "code",
   "execution_count": 7,
   "metadata": {
    "collapsed": true
   },
   "outputs": [],
   "source": [
    "### Convert Numeric to Categorical ###\n",
    "to_factors <- c(1,2)\n",
    "for(i in to_factors) data[,i] <- h2o.asfactor(data[,i])"
   ]
  },
  {
   "cell_type": "code",
   "execution_count": 8,
   "metadata": {
    "collapsed": false
   },
   "outputs": [
    {
     "data": {
      "text/html": [
       "<table>\n",
       "<thead><tr><th scope=col>Label</th><th scope=col>Type</th><th scope=col>Missing</th><th scope=col>Zeros</th><th scope=col>PosInf</th><th scope=col>NegInf</th><th scope=col>Min</th><th scope=col>Max</th><th scope=col>Mean</th><th scope=col>Sigma</th><th scope=col>Cardinality</th></tr></thead>\n",
       "<tbody>\n",
       "\t<tr><td>Channel          </td><td>enum             </td><td>0                </td><td>298              </td><td>0                </td><td>0                </td><td>0                </td><td>1                </td><td>0.322727272727273</td><td>0.468051569479114</td><td>2                </td></tr>\n",
       "\t<tr><td>Region           </td><td>enum             </td><td>0                </td><td>77               </td><td>0                </td><td>0                </td><td>0                </td><td>2                </td><td>NA               </td><td>NA               </td><td>3                </td></tr>\n",
       "\t<tr><td>Fresh            </td><td>int              </td><td>0                </td><td>0                </td><td>0                </td><td>0                </td><td>3                </td><td>112151           </td><td>12000.2977272727 </td><td>12647.3288650769 </td><td>NA               </td></tr>\n",
       "\t<tr><td>Milk             </td><td>int              </td><td>0                </td><td>0                </td><td>0                </td><td>0                </td><td>55               </td><td>73498            </td><td>5796.26590909092 </td><td>7380.37717457085 </td><td>NA               </td></tr>\n",
       "\t<tr><td>Grocery          </td><td>int              </td><td>0                </td><td>0                </td><td>0                </td><td>0                </td><td>3                </td><td>92780            </td><td>7951.27727272727 </td><td>9503.16282899435 </td><td>NA               </td></tr>\n",
       "\t<tr><td>Frozen           </td><td>int              </td><td>0                </td><td>0                </td><td>0                </td><td>0                </td><td>25               </td><td>60869            </td><td>3071.93181818182 </td><td>4854.67333259237 </td><td>NA               </td></tr>\n",
       "\t<tr><td>Detergents_Paper </td><td>int              </td><td>0                </td><td>0                </td><td>0                </td><td>0                </td><td>3                </td><td>40827            </td><td>2881.49318181818 </td><td>4767.8544479042  </td><td>NA               </td></tr>\n",
       "\t<tr><td>Delicassen       </td><td>int              </td><td>0                </td><td>0                </td><td>0                </td><td>0                </td><td>3                </td><td>47943            </td><td>1524.87045454545 </td><td>2820.1059373694  </td><td>NA               </td></tr>\n",
       "</tbody>\n",
       "</table>\n"
      ],
      "text/latex": [
       "\\begin{tabular}{r|lllllllllll}\n",
       " Label & Type & Missing & Zeros & PosInf & NegInf & Min & Max & Mean & Sigma & Cardinality\\\\\n",
       "\\hline\n",
       "\t Channel           & enum              & 0                 & 298               & 0                 & 0                 & 0                 & 1                 & 0.322727272727273 & 0.468051569479114 & 2                \\\\\n",
       "\t Region            & enum              & 0                 & 77                & 0                 & 0                 & 0                 & 2                 & NA                & NA                & 3                \\\\\n",
       "\t Fresh             & int               & 0                 & 0                 & 0                 & 0                 & 3                 & 112151            & 12000.2977272727  & 12647.3288650769  & NA               \\\\\n",
       "\t Milk              & int               & 0                 & 0                 & 0                 & 0                 & 55                & 73498             & 5796.26590909092  & 7380.37717457085  & NA               \\\\\n",
       "\t Grocery           & int               & 0                 & 0                 & 0                 & 0                 & 3                 & 92780             & 7951.27727272727  & 9503.16282899435  & NA               \\\\\n",
       "\t Frozen            & int               & 0                 & 0                 & 0                 & 0                 & 25                & 60869             & 3071.93181818182  & 4854.67333259237  & NA               \\\\\n",
       "\t Detergents\\_Paper & int                & 0                  & 0                  & 0                  & 0                  & 3                  & 40827              & 2881.49318181818   & 4767.8544479042    & NA                \\\\\n",
       "\t Delicassen        & int               & 0                 & 0                 & 0                 & 0                 & 3                 & 47943             & 1524.87045454545  & 2820.1059373694   & NA               \\\\\n",
       "\\end{tabular}\n"
      ],
      "text/markdown": [
       "\n",
       "Label | Type | Missing | Zeros | PosInf | NegInf | Min | Max | Mean | Sigma | Cardinality | \n",
       "|---|---|---|---|---|---|---|---|\n",
       "| Channel           | enum              | 0                 | 298               | 0                 | 0                 | 0                 | 1                 | 0.322727272727273 | 0.468051569479114 | 2                 | \n",
       "| Region            | enum              | 0                 | 77                | 0                 | 0                 | 0                 | 2                 | NA                | NA                | 3                 | \n",
       "| Fresh             | int               | 0                 | 0                 | 0                 | 0                 | 3                 | 112151            | 12000.2977272727  | 12647.3288650769  | NA                | \n",
       "| Milk              | int               | 0                 | 0                 | 0                 | 0                 | 55                | 73498             | 5796.26590909092  | 7380.37717457085  | NA                | \n",
       "| Grocery           | int               | 0                 | 0                 | 0                 | 0                 | 3                 | 92780             | 7951.27727272727  | 9503.16282899435  | NA                | \n",
       "| Frozen            | int               | 0                 | 0                 | 0                 | 0                 | 25                | 60869             | 3071.93181818182  | 4854.67333259237  | NA                | \n",
       "| Detergents_Paper  | int               | 0                 | 0                 | 0                 | 0                 | 3                 | 40827             | 2881.49318181818  | 4767.8544479042   | NA                | \n",
       "| Delicassen        | int               | 0                 | 0                 | 0                 | 0                 | 3                 | 47943             | 1524.87045454545  | 2820.1059373694   | NA                | \n",
       "\n",
       "\n"
      ],
      "text/plain": [
       "  Label            Type Missing Zeros PosInf NegInf Min Max   \n",
       "1 Channel          enum 0       298   0      0      0   1     \n",
       "2 Region           enum 0       77    0      0      0   2     \n",
       "3 Fresh            int  0       0     0      0      3   112151\n",
       "4 Milk             int  0       0     0      0      55  73498 \n",
       "5 Grocery          int  0       0     0      0      3   92780 \n",
       "6 Frozen           int  0       0     0      0      25  60869 \n",
       "7 Detergents_Paper int  0       0     0      0      3   40827 \n",
       "8 Delicassen       int  0       0     0      0      3   47943 \n",
       "  Mean              Sigma             Cardinality\n",
       "1 0.322727272727273 0.468051569479114 2          \n",
       "2 NA                NA                3          \n",
       "3 12000.2977272727  12647.3288650769  NA         \n",
       "4 5796.26590909092  7380.37717457085  NA         \n",
       "5 7951.27727272727  9503.16282899435  NA         \n",
       "6 3071.93181818182  4854.67333259237  NA         \n",
       "7 2881.49318181818  4767.8544479042   NA         \n",
       "8 1524.87045454545  2820.1059373694   NA         "
      ]
     },
     "metadata": {},
     "output_type": "display_data"
    }
   ],
   "source": [
    "h2o.describe(data)"
   ]
  },
  {
   "cell_type": "code",
   "execution_count": 13,
   "metadata": {
    "collapsed": false
   },
   "outputs": [
    {
     "name": "stderr",
     "output_type": "stream",
     "text": [
      "Warning message in h2o.summary(data):\n",
      "“Approximated quantiles computed! If you are interested in exact quantiles, please pass the `exact_quantiles=TRUE` parameter.”"
     ]
    },
    {
     "data": {
      "text/plain": [
       " Channel Region Fresh            Milk            Grocery        \n",
       " 1:298   3:316  Min.   :     3   Min.   :   55   Min.   :    3  \n",
       " 2:142   1: 77  1st Qu.:  3031   1st Qu.: 1524   1st Qu.: 2137  \n",
       "         2: 47  Median :  8470   Median : 3580   Median : 4735  \n",
       "                Mean   : 12000   Mean   : 5796   Mean   : 7951  \n",
       "                3rd Qu.: 16825   3rd Qu.: 7179   3rd Qu.:10603  \n",
       "                Max.   :112151   Max.   :73498   Max.   :92780  \n",
       " Frozen            Detergents_Paper  Delicassen       \n",
       " Min.   :   25.0   Min.   :    3.0   Min.   :    3.0  \n",
       " 1st Qu.:  694.3   1st Qu.:  247.9   1st Qu.:  386.5  \n",
       " Median : 1485.3   Median :  799.1   Median :  961.8  \n",
       " Mean   : 3071.9   Mean   : 2881.5   Mean   : 1524.9  \n",
       " 3rd Qu.: 3508.4   3rd Qu.: 3891.6   3rd Qu.: 1776.8  \n",
       " Max.   :60869.0   Max.   :40827.0   Max.   :47943.0  "
      ]
     },
     "metadata": {},
     "output_type": "display_data"
    }
   ],
   "source": [
    "h2o.summary(data)"
   ]
  },
  {
   "cell_type": "code",
   "execution_count": 15,
   "metadata": {
    "collapsed": false
   },
   "outputs": [
    {
     "name": "stdout",
     "output_type": "stream",
     "text": [
      "Class 'H2OFrame' <environment: 0x2fd8540> \n",
      " - attr(*, \"op\")= chr \":=\"\n",
      " - attr(*, \"eval\")= logi TRUE\n",
      " - attr(*, \"id\")= chr \"RTMP_sid_b01a_6\"\n",
      " - attr(*, \"nrow\")= int 440\n",
      " - attr(*, \"ncol\")= int 8\n",
      " - attr(*, \"types\")=List of 8\n",
      "  ..$ : chr \"enum\"\n",
      "  ..$ : chr \"enum\"\n",
      "  ..$ : chr \"int\"\n",
      "  ..$ : chr \"int\"\n",
      "  ..$ : chr \"int\"\n",
      "  ..$ : chr \"int\"\n",
      "  ..$ : chr \"int\"\n",
      "  ..$ : chr \"int\"\n",
      " - attr(*, \"data\")='data.frame':\t100 obs. of  8 variables:\n",
      "  ..$ Channel         : Factor w/ 2 levels \"1\",\"2\": 2 2 2 1 2 2 2 2 1 2 ...\n",
      "  ..$ Region          : Factor w/ 3 levels \"1\",\"2\",\"3\": 3 3 3 3 3 3 3 3 3 3 ...\n",
      "  ..$ Fresh           : num  12669 7057 6353 13265 22615 ...\n",
      "  ..$ Milk            : num  9656 9810 8808 1196 5410 ...\n",
      "  ..$ Grocery         : num  7561 9568 7684 4221 7198 ...\n",
      "  ..$ Frozen          : num  214 1762 2405 6404 3915 ...\n",
      "  ..$ Detergents_Paper: num  2674 3293 3516 507 1777 ...\n",
      "  ..$ Delicassen      : num  1338 1776 7844 1788 5185 ...\n"
     ]
    }
   ],
   "source": [
    "h2o.str(data)"
   ]
  },
  {
   "cell_type": "code",
   "execution_count": 16,
   "metadata": {
    "collapsed": false
   },
   "outputs": [
    {
     "data": {
      "text/plain": [
       "  Channel nrow_Channel\n",
       "1       1          298\n",
       "2       2          142\n",
       "\n",
       "[2 rows x 2 columns] "
      ]
     },
     "metadata": {},
     "output_type": "display_data"
    }
   ],
   "source": [
    "h2o.group_by(data, by=\"Channel\",nrow(\"Channel\"))"
   ]
  },
  {
   "cell_type": "code",
   "execution_count": 17,
   "metadata": {
    "collapsed": false
   },
   "outputs": [
    {
     "data": {
      "image/png": "[encoded data removed]",
      "text/plain": [
       "Plot with title “Histogram of data[, \"Fresh\"]”"
      ]
     },
     "metadata": {},
     "output_type": "display_data"
    }
   ],
   "source": [
    "h2o.hist(data[,\"Fresh\"])\n",
    "#h2o.hist(data[,14])"
   ]
  },
  {
   "cell_type": "code",
   "execution_count": 18,
   "metadata": {
    "collapsed": false
   },
   "outputs": [],
   "source": [
    "target <- \"Channel\""
   ]
  },
  {
   "cell_type": "code",
   "execution_count": 19,
   "metadata": {
    "collapsed": false
   },
   "outputs": [
    {
     "name": "stdout",
     "output_type": "stream",
     "text": [
      "[1] \"Channel\"\n"
     ]
    }
   ],
   "source": [
    "print(target)"
   ]
  },
  {
   "cell_type": "code",
   "execution_count": 20,
   "metadata": {
    "collapsed": false
   },
   "outputs": [
    {
     "name": "stdout",
     "output_type": "stream",
     "text": [
      "[1] \"Region\"           \"Fresh\"            \"Milk\"             \"Grocery\"         \n",
      "[5] \"Frozen\"           \"Detergents_Paper\"\n"
     ]
    }
   ],
   "source": [
    "a<-colnames(data)\n",
    "features <- a[2:7]\n",
    "print(features)"
   ]
  },
  {
   "cell_type": "code",
   "execution_count": 21,
   "metadata": {
    "collapsed": false
   },
   "outputs": [],
   "source": [
    "set.seed(102) # Set Seed so that same sample can be reproduced in future also\n",
    "# Now Selecting 75% of data as sample from total 'n' rows of the data  \n",
    "\n",
    "# Split dataset giving the training dataset 75% of the data\n",
    "data.split <- h2o.splitFrame(data=data, ratios=0.75)\n",
    "\n",
    "# Create a training set from the 1st dataset in the split\n",
    "data.train <- data.split[[1]]\n",
    "\n",
    "# Create a testing set from the 2nd dataset in the split\n",
    "data.test <- data.split[[2]]\n"
   ]
  },
  {
   "cell_type": "code",
   "execution_count": 22,
   "metadata": {
    "collapsed": false
   },
   "outputs": [
    {
     "data": {
      "text/html": [
       "337"
      ],
      "text/latex": [
       "337"
      ],
      "text/markdown": [
       "337"
      ],
      "text/plain": [
       "[1] 337"
      ]
     },
     "metadata": {},
     "output_type": "display_data"
    }
   ],
   "source": [
    "nrow(data.train)"
   ]
  },
  {
   "cell_type": "code",
   "execution_count": 23,
   "metadata": {
    "collapsed": false
   },
   "outputs": [
    {
     "name": "stdout",
     "output_type": "stream",
     "text": [
      "\r",
      "  |                                                                            \r",
      "  |                                                                      |   0%\r",
      "  |                                                                            \r",
      "  |=                                                                     |   2%\r",
      "  |                                                                            \r",
      "  |======================================================================| 100%\n"
     ]
    }
   ],
   "source": [
    "glm_model1 <- h2o.glm(x = features, \n",
    "                      y = target, \n",
    "                      training_frame = data.train,\n",
    "                      model_id = \"glm_model1\",\n",
    "                      family = \"binomial\")"
   ]
  },
  {
   "cell_type": "code",
   "execution_count": 24,
   "metadata": {
    "collapsed": false
   },
   "outputs": [
    {
     "name": "stdout",
     "output_type": "stream",
     "text": [
      "Model Details:\n",
      "==============\n",
      "\n",
      "H2OBinomialModel: glm\n",
      "Model Key:  glm_model1 \n",
      "GLM Model: summary\n",
      "    family  link                               regularization\n",
      "1 binomial logit Elastic Net (alpha = 0.5, lambda = 5.68E-4 )\n",
      "  number_of_predictors_total number_of_active_predictors number_of_iterations\n",
      "1                          8                           7                    6\n",
      "   training_frame\n",
      "1 RTMP_sid_b01a_9\n",
      "\n",
      "H2OBinomialMetrics: glm\n",
      "** Reported on training data. **\n",
      "\n",
      "MSE:  0.06445815\n",
      "RMSE:  0.2538861\n",
      "LogLoss:  0.2275041\n",
      "Mean Per-Class Error:  0.08861076\n",
      "AUC:  0.9539424\n",
      "Gini:  0.9078849\n",
      "R^2:  0.6945996\n",
      "Null Deviance:  413.2362\n",
      "Residual Deviance:  153.3378\n",
      "AIC:  169.3378\n",
      "\n",
      "Confusion Matrix for F1-optimal threshold:\n",
      "         1   2    Error     Rate\n",
      "1      221  14 0.059574  =14/235\n",
      "2       12  90 0.117647  =12/102\n",
      "Totals 233 104 0.077151  =26/337\n",
      "\n",
      "Maximum Metrics: Maximum metrics at their respective thresholds\n",
      "                        metric threshold    value idx\n",
      "1                       max f1  0.425323 0.873786 103\n",
      "2                       max f2  0.200321 0.907372 120\n",
      "3                 max f0point5  0.646032 0.885167  78\n",
      "4                 max accuracy  0.425323 0.922849 103\n",
      "5                max precision  1.000000 1.000000   0\n",
      "6                   max recall  0.013155 1.000000 306\n",
      "7              max specificity  1.000000 1.000000   0\n",
      "8             max absolute_mcc  0.425323 0.818318 103\n",
      "9   max min_per_class_accuracy  0.250686 0.914894 113\n",
      "10 max mean_per_class_accuracy  0.250686 0.918231 113\n",
      "\n",
      "Gains/Lift Table: Extract with `h2o.gainsLift(<model>, <data>)` or `h2o.gainsLift(<model>, valid=<T/F>, xval=<T/F>)`\n",
      "\n",
      "\n",
      "\n",
      "Scoring History: \n",
      "            timestamp   duration iteration negative_log_likelihood objective\n",
      "1 2017-04-18 16:44:08  0.000 sec         0               206.61812   0.61311\n",
      "2 2017-04-18 16:44:08  0.037 sec         1               123.40126   0.36701\n",
      "3 2017-04-18 16:44:08  0.044 sec         2                90.01760   0.26909\n",
      "4 2017-04-18 16:44:08  0.051 sec         3                78.88912   0.23783\n",
      "5 2017-04-18 16:44:08  0.058 sec         4                76.85000   0.23309\n",
      "6 2017-04-18 16:44:08  0.066 sec         5                76.67452   0.23291\n",
      "7 2017-04-18 16:44:08  0.074 sec         6                76.66888   0.23291\n",
      "\n",
      "Variable Importances: (Extract with `h2o.varimp`) \n",
      "=================================================\n",
      "\n",
      "Standardized Coefficient Magnitudes: standardized coefficient magnitudes\n",
      "             names coefficients sign\n",
      "1 Detergents_Paper     4.444774  POS\n",
      "2         Region.1     0.918081  NEG\n",
      "3         Region.2     0.777040  POS\n",
      "4           Frozen     0.736502  NEG\n",
      "5             Milk     0.500486  POS\n",
      "6          Grocery     0.434848  POS\n",
      "7            Fresh     0.137231  POS\n",
      "8         Region.3     0.000000  POS\n",
      "Standardized Coefficient Magnitudes: standardized coefficient magnitudes\n",
      "             names coefficients sign\n",
      "1 Detergents_Paper     4.444774  POS\n",
      "2         Region.1     0.918081  NEG\n",
      "3         Region.2     0.777040  POS\n",
      "4           Frozen     0.736502  NEG\n",
      "5             Milk     0.500486  POS\n",
      "6          Grocery     0.434848  POS\n",
      "7            Fresh     0.137231  POS\n",
      "8         Region.3     0.000000  POS\n"
     ]
    }
   ],
   "source": [
    "print(summary(glm_model1))"
   ]
  },
  {
   "cell_type": "code",
   "execution_count": 25,
   "metadata": {
    "collapsed": true
   },
   "outputs": [],
   "source": [
    "perf_obj <- h2o.performance(glm_model1, newdata = data.test)"
   ]
  },
  {
   "cell_type": "code",
   "execution_count": 26,
   "metadata": {
    "collapsed": false
   },
   "outputs": [
    {
     "name": "stdout",
     "output_type": "stream",
     "text": [
      "H2OBinomialMetrics: glm\n",
      "\n",
      "MSE:  0.06068657\n",
      "RMSE:  0.2463464\n",
      "LogLoss:  0.2278505\n",
      "Mean Per-Class Error:  0.04880952\n",
      "AUC:  0.9638889\n",
      "Gini:  0.9277778\n",
      "R^2:  0.7445144\n",
      "Null Deviance:  141.0315\n",
      "Residual Deviance:  46.9372\n",
      "AIC:  62.9372\n",
      "\n",
      "Confusion Matrix for F1-optimal threshold:\n",
      "        1  2    Error    Rate\n",
      "1      60  3 0.047619   =3/63\n",
      "2       2 38 0.050000   =2/40\n",
      "Totals 62 41 0.048544  =5/103\n",
      "\n",
      "Maximum Metrics: Maximum metrics at their respective thresholds\n",
      "                        metric threshold    value idx\n",
      "1                       max f1  0.299992 0.938272  40\n",
      "2                       max f2  0.299992 0.945274  40\n",
      "3                 max f0point5  0.575322 0.937500  33\n",
      "4                 max accuracy  0.299992 0.951456  40\n",
      "5                max precision  1.000000 1.000000   0\n",
      "6                   max recall  0.012771 1.000000  94\n",
      "7              max specificity  1.000000 1.000000   0\n",
      "8             max absolute_mcc  0.299992 0.898468  40\n",
      "9   max min_per_class_accuracy  0.299992 0.950000  40\n",
      "10 max mean_per_class_accuracy  0.299992 0.951190  40\n",
      "\n",
      "Gains/Lift Table: Extract with `h2o.gainsLift(<model>, <data>)` or `h2o.gainsLift(<model>, valid=<T/F>, xval=<T/F>)`"
     ]
    }
   ],
   "source": [
    "print(perf_obj)"
   ]
  },
  {
   "cell_type": "code",
   "execution_count": 32,
   "metadata": {
    "collapsed": false
   },
   "outputs": [
    {
     "data": {
      "text/html": [
       "<ol>\n",
       "\t<li>0.805825242718447</li>\n",
       "</ol>\n"
      ],
      "text/latex": [
       "\\begin{enumerate}\n",
       "\\item 0.805825242718447\n",
       "\\end{enumerate}\n"
      ],
      "text/markdown": [
       "1. 0.805825242718447\n",
       "\n",
       "\n"
      ],
      "text/plain": [
       "[[1]]\n",
       "[1] 0.8058252\n"
      ]
     },
     "metadata": {},
     "output_type": "display_data"
    }
   ],
   "source": [
    "h2o.accuracy(perf_obj,0.946986888684036)"
   ]
  },
  {
   "cell_type": "code",
   "execution_count": 30,
   "metadata": {
    "collapsed": false
   },
   "outputs": [
    {
     "name": "stdout",
     "output_type": "stream",
     "text": [
      "\r",
      "  |                                                                            \r",
      "  |                                                                      |   0%\r",
      "  |                                                                            \r",
      "  |======================================================================| 100%\n"
     ]
    },
    {
     "data": {
      "text/plain": [
       "  predict         p1         p2\n",
       "1       2 0.14923647 0.85076353\n",
       "2       2 0.02989288 0.97010712\n",
       "3       1 0.91091737 0.08908263\n",
       "4       1 0.93788012 0.06211988\n",
       "5       1 0.97290165 0.02709835\n",
       "6       1 0.95943533 0.04056467\n",
       "\n",
       "[103 rows x 3 columns] "
      ]
     },
     "metadata": {},
     "output_type": "display_data"
    }
   ],
   "source": [
    "pred_channel <- h2o.predict(glm_model1,data.test)\n",
    "pred_channel"
   ]
  },
  {
   "cell_type": "code",
   "execution_count": null,
   "metadata": {
    "collapsed": true
   },
   "outputs": [],
   "source": []
  }
 ],
 "metadata": {
  "anaconda-cloud": {},
  "kernelspec": {
   "display_name": "R [jupyter_r]",
   "language": "R",
   "name": "R [jupyter_r]"
  },
  "language_info": {
   "codemirror_mode": "r",
   "file_extension": ".r",
   "mimetype": "text/x-r-source",
   "name": "R",
   "pygments_lexer": "r",
   "version": "3.3.2"
  }
 },
 "nbformat": 4,
 "nbformat_minor": 0
}

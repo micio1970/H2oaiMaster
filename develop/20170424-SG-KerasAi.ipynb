{
 "cells": [
  {
   "cell_type": "code",
   "execution_count": 2,
   "metadata": {
    "collapsed": false
   },
   "outputs": [
    {
     "name": "stderr",
     "output_type": "stream",
     "text": [
      "Using Theano backend.\n"
     ]
    }
   ],
   "source": [
    "from keras.models import Sequential\n",
    "from keras.layers import Dense\n",
    "from keras.optimizers import SGD\n",
    "from keras.datasets import mnist\n",
    "from keras.utils import np_utils\n"
   ]
  },
  {
   "cell_type": "code",
   "execution_count": 3,
   "metadata": {
    "collapsed": false
   },
   "outputs": [
    {
     "name": "stdout",
     "output_type": "stream",
     "text": [
      "Downloading data from https://s3.amazonaws.com/img-datasets/mnist.npz\n"
     ]
    }
   ],
   "source": [
    "batch_size = 100\n",
    "nb_classes = 10\n",
    "nb_epoch = 50\n",
    "\n",
    "(X_train, y_train), (X_test, y_test) = mnist.load_data()\n",
    "X_train = X_train.reshape(60000, 784)\n",
    "X_test = X_test.reshape(10000, 784)\n",
    "X_train = X_train.astype('float32')\n",
    "X_test = X_test.astype('float32')\n",
    "X_train /= 255\n",
    "X_test /= 255\n",
    "Y_Train = np_utils.to_categorical(y_train, nb_classes)\n",
    "Y_Test = np_utils.to_categorical(y_test, nb_classes)\n",
    "\n",
    "\n"
   ]
  },
  {
   "cell_type": "code",
   "execution_count": 4,
   "metadata": {
    "collapsed": false
   },
   "outputs": [
    {
     "name": "stderr",
     "output_type": "stream",
     "text": [
      "/home/micio1970/anaconda3/lib/python3.5/site-packages/ipykernel/__main__.py:3: UserWarning: Update your `Dense` call to the Keras 2 API: `Dense(input_shape=(784,), units=10, activation=\"softmax\", kernel_initializer=\"normal\")`\n",
      "  app.launch_new_instance()\n"
     ]
    },
    {
     "name": "stdout",
     "output_type": "stream",
     "text": [
      "_________________________________________________________________\n",
      "Layer (type)                 Output Shape              Param #   \n",
      "=================================================================\n",
      "dense_1 (Dense)              (None, 10)                7850      \n",
      "=================================================================\n",
      "Total params: 7,850.0\n",
      "Trainable params: 7,850\n",
      "Non-trainable params: 0.0\n",
      "_________________________________________________________________\n"
     ]
    }
   ],
   "source": [
    "#model\n",
    "model = Sequential()\n",
    "model.add(Dense(output_dim=10, input_shape=(784,), init='normal', activation='softmax'))\n",
    "model.compile(optimizer=SGD(lr=0.05), loss='categorical_crossentropy', metrics=['accuracy'])\n",
    "model.summary()\n"
   ]
  },
  {
   "cell_type": "code",
   "execution_count": 5,
   "metadata": {
    "collapsed": false
   },
   "outputs": [
    {
     "name": "stderr",
     "output_type": "stream",
     "text": [
      "/home/micio1970/anaconda3/lib/python3.5/site-packages/keras/models.py:826: UserWarning: The `nb_epoch` argument in `fit` has been renamed `epochs`.\n",
      "  warnings.warn('The `nb_epoch` argument in `fit` '\n"
     ]
    },
    {
     "name": "stdout",
     "output_type": "stream",
     "text": [
      "Epoch 1/50\n",
      "60000/60000 [==============================] - 0s - loss: 0.6670 - acc: 0.8375     \n",
      "Epoch 2/50\n",
      "60000/60000 [==============================] - 0s - loss: 0.4101 - acc: 0.8895     \n",
      "Epoch 3/50\n",
      "60000/60000 [==============================] - 0s - loss: 0.3694 - acc: 0.8986     \n",
      "Epoch 4/50\n",
      "60000/60000 [==============================] - 0s - loss: 0.3485 - acc: 0.9028     \n",
      "Epoch 5/50\n",
      "60000/60000 [==============================] - 0s - loss: 0.3353 - acc: 0.9061     \n",
      "Epoch 6/50\n",
      "60000/60000 [==============================] - 0s - loss: 0.3257 - acc: 0.9092     \n",
      "Epoch 7/50\n",
      "60000/60000 [==============================] - 0s - loss: 0.3185 - acc: 0.9108     \n",
      "Epoch 8/50\n",
      "60000/60000 [==============================] - 0s - loss: 0.3127 - acc: 0.9128     \n",
      "Epoch 9/50\n",
      "60000/60000 [==============================] - 0s - loss: 0.3081 - acc: 0.9140     \n",
      "Epoch 10/50\n",
      "60000/60000 [==============================] - 0s - loss: 0.3040 - acc: 0.9150     \n",
      "Epoch 11/50\n",
      "60000/60000 [==============================] - 0s - loss: 0.3006 - acc: 0.9161     \n",
      "Epoch 12/50\n",
      "60000/60000 [==============================] - 0s - loss: 0.2977 - acc: 0.9167     \n",
      "Epoch 13/50\n",
      "60000/60000 [==============================] - 0s - loss: 0.2949 - acc: 0.9177     \n",
      "Epoch 14/50\n",
      "60000/60000 [==============================] - 0s - loss: 0.2925 - acc: 0.9185     \n",
      "Epoch 15/50\n",
      "60000/60000 [==============================] - 0s - loss: 0.2905 - acc: 0.9186     \n",
      "Epoch 16/50\n",
      "60000/60000 [==============================] - 0s - loss: 0.2886 - acc: 0.9192     \n",
      "Epoch 17/50\n",
      "60000/60000 [==============================] - 0s - loss: 0.2869 - acc: 0.9204     \n",
      "Epoch 18/50\n",
      "60000/60000 [==============================] - 0s - loss: 0.2853 - acc: 0.9202     \n",
      "Epoch 19/50\n",
      "60000/60000 [==============================] - 0s - loss: 0.2838 - acc: 0.9211     \n",
      "Epoch 20/50\n",
      "60000/60000 [==============================] - 0s - loss: 0.2823 - acc: 0.9219     \n",
      "Epoch 21/50\n",
      "60000/60000 [==============================] - 0s - loss: 0.2812 - acc: 0.9221     \n",
      "Epoch 22/50\n",
      "60000/60000 [==============================] - 0s - loss: 0.2800 - acc: 0.9223     \n",
      "Epoch 23/50\n",
      "60000/60000 [==============================] - 0s - loss: 0.2788 - acc: 0.9229     \n",
      "Epoch 24/50\n",
      "60000/60000 [==============================] - 0s - loss: 0.2779 - acc: 0.9227     \n",
      "Epoch 25/50\n",
      "60000/60000 [==============================] - 0s - loss: 0.2768 - acc: 0.9229     \n",
      "Epoch 26/50\n",
      "60000/60000 [==============================] - 0s - loss: 0.2759 - acc: 0.9231     \n",
      "Epoch 27/50\n",
      "60000/60000 [==============================] - 0s - loss: 0.2750 - acc: 0.9234     \n",
      "Epoch 28/50\n",
      "60000/60000 [==============================] - 0s - loss: 0.2742 - acc: 0.9242     \n",
      "Epoch 29/50\n",
      "60000/60000 [==============================] - 0s - loss: 0.2735 - acc: 0.9242     \n",
      "Epoch 30/50\n",
      "60000/60000 [==============================] - 0s - loss: 0.2726 - acc: 0.9243     \n",
      "Epoch 31/50\n",
      "60000/60000 [==============================] - 0s - loss: 0.2719 - acc: 0.9246     \n",
      "Epoch 32/50\n",
      "60000/60000 [==============================] - 0s - loss: 0.2713 - acc: 0.9246     \n",
      "Epoch 33/50\n",
      "60000/60000 [==============================] - 0s - loss: 0.2706 - acc: 0.9250     \n",
      "Epoch 34/50\n",
      "60000/60000 [==============================] - 0s - loss: 0.2700 - acc: 0.9249     \n",
      "Epoch 35/50\n",
      "60000/60000 [==============================] - 0s - loss: 0.2693 - acc: 0.9251     \n",
      "Epoch 36/50\n",
      "60000/60000 [==============================] - 0s - loss: 0.2687 - acc: 0.9255     \n",
      "Epoch 37/50\n",
      "60000/60000 [==============================] - 0s - loss: 0.2680 - acc: 0.9255     \n",
      "Epoch 38/50\n",
      "60000/60000 [==============================] - 0s - loss: 0.2677 - acc: 0.9258     \n",
      "Epoch 39/50\n",
      "60000/60000 [==============================] - 0s - loss: 0.2670 - acc: 0.9259     \n",
      "Epoch 40/50\n",
      "60000/60000 [==============================] - 0s - loss: 0.2666 - acc: 0.9263     \n",
      "Epoch 41/50\n",
      "60000/60000 [==============================] - 0s - loss: 0.2660 - acc: 0.9263     \n",
      "Epoch 42/50\n",
      "60000/60000 [==============================] - 0s - loss: 0.2656 - acc: 0.9262     \n",
      "Epoch 43/50\n",
      "60000/60000 [==============================] - 0s - loss: 0.2651 - acc: 0.9264     \n",
      "Epoch 44/50\n",
      "60000/60000 [==============================] - 0s - loss: 0.2646 - acc: 0.9268     \n",
      "Epoch 45/50\n",
      "60000/60000 [==============================] - 0s - loss: 0.2642 - acc: 0.9269     \n",
      "Epoch 46/50\n",
      "60000/60000 [==============================] - 0s - loss: 0.2638 - acc: 0.9266     \n",
      "Epoch 47/50\n",
      "60000/60000 [==============================] - 0s - loss: 0.2634 - acc: 0.9272     \n",
      "Epoch 48/50\n",
      "60000/60000 [==============================] - 0s - loss: 0.2630 - acc: 0.9274     \n",
      "Epoch 49/50\n",
      "60000/60000 [==============================] - 0s - loss: 0.2626 - acc: 0.9272     \n",
      "Epoch 50/50\n",
      "60000/60000 [==============================] - 0s - loss: 0.2622 - acc: 0.9274     \n",
      " 8000/10000 [=======================>......] - ETA: 0sSummary: Loss over the test dataset: 0.27, Accuracy: 0.92\n"
     ]
    }
   ],
   "source": [
    "history = model.fit(X_train, Y_Train, nb_epoch=nb_epoch, batch_size=batch_size, verbose=1)\n",
    "\n",
    "evaluation = model.evaluate(X_test, Y_Test, verbose=1)\n",
    "print('Summary: Loss over the test dataset: %.2f, Accuracy: %.2f' % (evaluation[0], evaluation[1]))"
   ]
  },
  {
   "cell_type": "code",
   "execution_count": null,
   "metadata": {
    "collapsed": true
   },
   "outputs": [],
   "source": []
  }
 ],
 "metadata": {
  "anaconda-cloud": {},
  "kernelspec": {
   "display_name": "Python [Root]",
   "language": "python",
   "name": "Python [Root]"
  },
  "language_info": {
   "codemirror_mode": {
    "name": "ipython",
    "version": 3
   },
   "file_extension": ".py",
   "mimetype": "text/x-python",
   "name": "python",
   "nbconvert_exporter": "python",
   "pygments_lexer": "ipython3",
   "version": "3.5.1"
  }
 },
 "nbformat": 4,
 "nbformat_minor": 0
}

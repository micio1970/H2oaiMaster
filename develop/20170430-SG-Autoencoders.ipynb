{
 "cells": [
  {
   "cell_type": "code",
   "execution_count": 1,
   "metadata": {},
   "outputs": [
    {
     "name": "stderr",
     "output_type": "stream",
     "text": [
      "\n",
      "----------------------------------------------------------------------\n",
      "\n",
      "Your next step is to start H2O:\n",
      "    > h2o.init()\n",
      "\n",
      "For H2O package documentation, ask for help:\n",
      "    > ??h2o\n",
      "\n",
      "After starting H2O, you can use the Web UI at http://localhost:54321\n",
      "For more information visit http://docs.h2o.ai\n",
      "\n",
      "----------------------------------------------------------------------\n",
      "\n",
      "\n",
      "Attaching package: ‘h2o’\n",
      "\n",
      "The following objects are masked from ‘package:stats’:\n",
      "\n",
      "    cor, sd, var\n",
      "\n",
      "The following objects are masked from ‘package:base’:\n",
      "\n",
      "    &&, %*%, %in%, ||, apply, as.factor, as.numeric, colnames,\n",
      "    colnames<-, ifelse, is.character, is.factor, is.numeric, log,\n",
      "    log10, log1p, log2, round, signif, trunc\n",
      "\n"
     ]
    },
    {
     "name": "stdout",
     "output_type": "stream",
     "text": [
      "\n",
      "H2O is not running yet, starting it now...\n",
      "\n",
      "Note:  In case of errors look at the following log files:\n",
      "    /tmp/RtmpBMvgSb/h2o_micio1970_started_from_r.out\n",
      "    /tmp/RtmpBMvgSb/h2o_micio1970_started_from_r.err\n",
      "\n",
      "\n",
      "Starting H2O JVM and connecting: ... Connection successful!\n",
      "\n",
      "R is connected to the H2O cluster: \n",
      "    H2O cluster uptime:         3 seconds 917 milliseconds \n",
      "    H2O cluster version:        3.10.2.2 \n",
      "    H2O cluster version age:    3 months and 24 days !!! \n",
      "    H2O cluster name:           H2O_started_from_R_micio1970_bmf429 \n",
      "    H2O cluster total nodes:    1 \n",
      "    H2O cluster total memory:   1.71 GB \n",
      "    H2O cluster total cores:    4 \n",
      "    H2O cluster allowed cores:  2 \n",
      "    H2O cluster healthy:        TRUE \n",
      "    H2O Connection ip:          localhost \n",
      "    H2O Connection port:        54321 \n",
      "    H2O Connection proxy:       NA \n",
      "    R Version:                  R version 3.3.2 (2016-10-31) \n"
     ]
    },
    {
     "name": "stderr",
     "output_type": "stream",
     "text": [
      "Warning message in h2o.clusterInfo():\n",
      "“\n",
      "Your H2O cluster version is too old (3 months and 24 days)!\n",
      "Please download and install the latest version from http://h2o.ai/download/”"
     ]
    },
    {
     "name": "stdout",
     "output_type": "stream",
     "text": [
      "\n",
      "Note:  As started, H2O is limited to the CRAN default of 2 CPUs.\n",
      "       Shut down and restart H2O as shown below to use all your CPUs.\n",
      "           > h2o.shutdown()\n",
      "           > h2o.init(nthreads = -1)\n",
      "\n"
     ]
    }
   ],
   "source": [
    "library(h2o)\n",
    "h2o.init()"
   ]
  },
  {
   "cell_type": "code",
   "execution_count": 2,
   "metadata": {},
   "outputs": [
    {
     "name": "stdout",
     "output_type": "stream",
     "text": [
      "\r",
      "  |                                                                            \r",
      "  |                                                                      |   0%\r",
      "  |                                                                            \r",
      "  |======================================================================| 100%\n"
     ]
    }
   ],
   "source": [
    "mtcar <- read.csv(\"../data/auto_design.csv\")\n",
    "mtcar$gear <- as.factor(mtcar$gear)  \n",
    "mtcar$carb <- as.factor(mtcar$carb) \n",
    "mtcar$cyl <- as.factor(mtcar$cyl)  \n",
    "mtcar$vs  <- as.factor(mtcar$vs)  \n",
    "mtcar$am  <- as.factor(mtcar$am)\n",
    "mtcar$ID  <- 1:nrow(mtcar)  \n",
    "mtcar.hex  <- as.h2o(mtcar)"
   ]
  },
  {
   "cell_type": "code",
   "execution_count": 3,
   "metadata": {},
   "outputs": [
    {
     "name": "stdout",
     "output_type": "stream",
     "text": [
      "\r",
      "  |                                                                            \r",
      "  |                                                                      |   0%\r",
      "  |                                                                            \r",
      "  |=======                                                               |  10%\r",
      "  |                                                                            \r",
      "  |===============================================================       |  90%\r",
      "  |                                                                            \r",
      "  |======================================================================| 100%\n"
     ]
    }
   ],
   "source": [
    "# Use a bigger DNN\n",
    "mtcar.dl = h2o.deeplearning(x = 1:10, training_frame = mtcar.hex, autoencoder = TRUE,hidden = c(50, 50, 50), epochs = 100,seed=1)"
   ]
  },
  {
   "cell_type": "code",
   "execution_count": 10,
   "metadata": {},
   "outputs": [
    {
     "name": "stdout",
     "output_type": "stream",
     "text": [
      "   Reconstruction.MSE\n",
      "1          0.08062820\n",
      "2          0.08062627\n",
      "3          0.08107896\n",
      "4          0.08023649\n",
      "5          0.08041644\n",
      "6          0.08035883\n",
      "7          0.08059006\n",
      "8          0.08080999\n",
      "9          0.08077441\n",
      "10         0.08058066\n",
      "11         0.13421215\n",
      "12         0.08028465\n",
      "13         0.08024953\n",
      "14         0.08034106\n",
      "15         0.08179186\n",
      "16         0.08165718\n",
      "17         0.08113470\n",
      "18         0.11731048\n",
      "19         0.09553176\n",
      "20         0.08212478\n",
      "21         0.08095087\n",
      "22         0.08039952\n",
      "23         0.08038477\n",
      "24         0.08060766\n",
      "25         0.08064635\n",
      "26         0.08155116\n",
      "27         0.08104111\n",
      "28         0.08149853\n",
      "29         0.08047391\n",
      "30         0.09316467\n",
      "31         0.08041732\n",
      "32         0.08092992\n"
     ]
    }
   ],
   "source": [
    "errors <- h2o.anomaly(mtcar.dl, mtcar.hex, per_feature = FALSE)\n",
    "errors_r <- as.data.frame(errors)\n",
    "print(errors_r)"
   ]
  },
  {
   "cell_type": "code",
   "execution_count": 15,
   "metadata": {},
   "outputs": [
    {
     "data": {
      "text/html": [
       "<table>\n",
       "<thead><tr><th></th><th scope=col>X</th><th scope=col>mpg</th><th scope=col>cyl</th><th scope=col>disp</th><th scope=col>hp</th><th scope=col>drat</th><th scope=col>wt</th><th scope=col>qsec</th><th scope=col>vs</th><th scope=col>am</th><th scope=col>gear</th><th scope=col>carb</th><th scope=col>ID</th></tr></thead>\n",
       "<tbody>\n",
       "\t<tr><th scope=row>11</th><td>Merc 280C</td><td>17.8     </td><td>6        </td><td>167.6    </td><td> 210     </td><td>800      </td><td>900      </td><td>1000     </td><td>1        </td><td>0        </td><td>4        </td><td>4        </td><td>11       </td></tr>\n",
       "\t<tr><th scope=row>18</th><td>Fiat 128 </td><td>32.4     </td><td>4        </td><td>780.0    </td><td>2100     </td><td>400      </td><td>200      </td><td> 700     </td><td>1        </td><td>1        </td><td>4        </td><td>1        </td><td>18       </td></tr>\n",
       "</tbody>\n",
       "</table>\n"
      ],
      "text/latex": [
       "\\begin{tabular}{r|lllllllllllll}\n",
       "  & X & mpg & cyl & disp & hp & drat & wt & qsec & vs & am & gear & carb & ID\\\\\n",
       "\\hline\n",
       "\t11 & Merc 280C & 17.8      & 6         & 167.6     &  210      & 800       & 900       & 1000      & 1         & 0         & 4         & 4         & 11       \\\\\n",
       "\t18 & Fiat 128  & 32.4      & 4         & 780.0     & 2100      & 400       & 200       &  700      & 1         & 1         & 4         & 1         & 18       \\\\\n",
       "\\end{tabular}\n"
      ],
      "text/markdown": [
       "\n",
       "| <!--/--> | X | mpg | cyl | disp | hp | drat | wt | qsec | vs | am | gear | carb | ID | \n",
       "|---|---|\n",
       "| 11 | Merc 280C | 17.8      | 6         | 167.6     |  210      | 800       | 900       | 1000      | 1         | 0         | 4         | 4         | 11        | \n",
       "| 18 | Fiat 128  | 32.4      | 4         | 780.0     | 2100      | 400       | 200       |  700      | 1         | 1         | 4         | 1         | 18        | \n",
       "\n",
       "\n"
      ],
      "text/plain": [
       "   X         mpg  cyl disp  hp   drat wt  qsec vs am gear carb ID\n",
       "11 Merc 280C 17.8 6   167.6  210 800  900 1000 1  0  4    4    11\n",
       "18 Fiat 128  32.4 4   780.0 2100 400  200  700 1  1  4    1    18"
      ]
     },
     "metadata": {},
     "output_type": "display_data"
    }
   ],
   "source": [
    "# Outliers (define 0.099 as the cut-off point)\n",
    "row_outliers <- which(errors_r > 0.099) # based on plot above\n",
    "#print (row_outliers)\n",
    "mtcar[row_outliers,]"
   ]
  },
  {
   "cell_type": "code",
   "execution_count": null,
   "metadata": {},
   "outputs": [],
   "source": []
  },
  {
   "cell_type": "code",
   "execution_count": null,
   "metadata": {
    "collapsed": true
   },
   "outputs": [],
   "source": []
  }
 ],
 "metadata": {
  "anaconda-cloud": {},
  "kernelspec": {
   "display_name": "R [conda env:jupyter_r]",
   "language": "R",
   "name": "conda-env-jupyter_r-r"
  },
  "language_info": {
   "codemirror_mode": "r",
   "file_extension": ".r",
   "mimetype": "text/x-r-source",
   "name": "R",
   "pygments_lexer": "r",
   "version": "3.3.2"
  }
 },
 "nbformat": 4,
 "nbformat_minor": 2
}

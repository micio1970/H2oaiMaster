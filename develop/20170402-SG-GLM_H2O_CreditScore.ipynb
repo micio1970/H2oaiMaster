{
 "cells": [
  {
   "cell_type": "code",
   "execution_count": 1,
   "metadata": {},
   "outputs": [
    {
     "name": "stderr",
     "output_type": "stream",
     "text": [
      "\n",
      "----------------------------------------------------------------------\n",
      "\n",
      "Your next step is to start H2O:\n",
      "    > h2o.init()\n",
      "\n",
      "For H2O package documentation, ask for help:\n",
      "    > ??h2o\n",
      "\n",
      "After starting H2O, you can use the Web UI at http://localhost:54321\n",
      "For more information visit http://docs.h2o.ai\n",
      "\n",
      "----------------------------------------------------------------------\n",
      "\n",
      "\n",
      "Attaching package: ‘h2o’\n",
      "\n",
      "The following objects are masked from ‘package:stats’:\n",
      "\n",
      "    cor, sd, var\n",
      "\n",
      "The following objects are masked from ‘package:base’:\n",
      "\n",
      "    &&, %*%, %in%, ||, apply, as.factor, as.numeric, colnames,\n",
      "    colnames<-, ifelse, is.character, is.factor, is.numeric, log,\n",
      "    log10, log1p, log2, round, signif, trunc\n",
      "\n"
     ]
    },
    {
     "name": "stdout",
     "output_type": "stream",
     "text": [
      "\n",
      "H2O is not running yet, starting it now...\n",
      "\n",
      "Note:  In case of errors look at the following log files:\n",
      "    /tmp/RtmppCUDha/h2o_micio1970_started_from_r.out\n",
      "    /tmp/RtmppCUDha/h2o_micio1970_started_from_r.err\n",
      "\n",
      "\n",
      "Starting H2O JVM and connecting: .. Connection successful!\n",
      "\n",
      "R is connected to the H2O cluster: \n",
      "    H2O cluster uptime:         2 seconds 526 milliseconds \n",
      "    H2O cluster version:        3.10.2.2 \n",
      "    H2O cluster version age:    3 months and 5 days  \n",
      "    H2O cluster name:           H2O_started_from_R_micio1970_hdk093 \n",
      "    H2O cluster total nodes:    1 \n",
      "    H2O cluster total memory:   1.71 GB \n",
      "    H2O cluster total cores:    4 \n",
      "    H2O cluster allowed cores:  2 \n",
      "    H2O cluster healthy:        TRUE \n",
      "    H2O Connection ip:          localhost \n",
      "    H2O Connection port:        54321 \n",
      "    H2O Connection proxy:       NA \n",
      "    R Version:                  R version 3.3.2 (2016-10-31) \n",
      "\n",
      "Note:  As started, H2O is limited to the CRAN default of 2 CPUs.\n",
      "       Shut down and restart H2O as shown below to use all your CPUs.\n",
      "           > h2o.shutdown()\n",
      "           > h2o.init(nthreads = -1)\n",
      "\n",
      "  |======================================================================| 100%\n"
     ]
    }
   ],
   "source": [
    "library(h2o)\n",
    "h2o.init()\n",
    "data<-h2o.uploadFile(\"../data/german_credit.csv\")"
   ]
  },
  {
   "cell_type": "code",
   "execution_count": 2,
   "metadata": {},
   "outputs": [
    {
     "data": {
      "text/html": [
       "<table>\n",
       "<thead><tr><th scope=col>Creditability</th><th scope=col>Account Balance</th><th scope=col>Duration of Credit (month)</th><th scope=col>Payment Status of Previous Credit</th><th scope=col>Purpose</th><th scope=col>Credit Amount</th><th scope=col>Value Savings/Stocks</th><th scope=col>Length of current employment</th><th scope=col>Instalment per cent</th><th scope=col>Sex &amp; Marital Status</th><th scope=col>⋯</th><th scope=col>Duration in Current address</th><th scope=col>Most valuable available asset</th><th scope=col>Age (years)</th><th scope=col>Concurrent Credits</th><th scope=col>Type of apartment</th><th scope=col>No of Credits at this Bank</th><th scope=col>Occupation</th><th scope=col>No of dependents</th><th scope=col>Telephone</th><th scope=col>Foreign Worker</th></tr></thead>\n",
       "<tbody>\n",
       "\t<tr><td>1   </td><td>1   </td><td>18  </td><td>4   </td><td>2   </td><td>1049</td><td>1   </td><td>2   </td><td>4   </td><td>2   </td><td>⋯   </td><td>4   </td><td>2   </td><td>21  </td><td>3   </td><td>1   </td><td>1   </td><td>3   </td><td>1   </td><td>1   </td><td>1   </td></tr>\n",
       "\t<tr><td>1   </td><td>1   </td><td> 9  </td><td>4   </td><td>0   </td><td>2799</td><td>1   </td><td>3   </td><td>2   </td><td>3   </td><td>⋯   </td><td>2   </td><td>1   </td><td>36  </td><td>3   </td><td>1   </td><td>2   </td><td>3   </td><td>2   </td><td>1   </td><td>1   </td></tr>\n",
       "\t<tr><td>1   </td><td>2   </td><td>12  </td><td>2   </td><td>9   </td><td> 841</td><td>2   </td><td>4   </td><td>2   </td><td>2   </td><td>⋯   </td><td>4   </td><td>1   </td><td>23  </td><td>3   </td><td>1   </td><td>1   </td><td>2   </td><td>1   </td><td>1   </td><td>1   </td></tr>\n",
       "\t<tr><td>1   </td><td>1   </td><td>12  </td><td>4   </td><td>0   </td><td>2122</td><td>1   </td><td>3   </td><td>3   </td><td>3   </td><td>⋯   </td><td>2   </td><td>1   </td><td>39  </td><td>3   </td><td>1   </td><td>2   </td><td>2   </td><td>2   </td><td>1   </td><td>2   </td></tr>\n",
       "\t<tr><td>1   </td><td>1   </td><td>12  </td><td>4   </td><td>0   </td><td>2171</td><td>1   </td><td>3   </td><td>4   </td><td>3   </td><td>⋯   </td><td>4   </td><td>2   </td><td>38  </td><td>1   </td><td>2   </td><td>2   </td><td>2   </td><td>1   </td><td>1   </td><td>2   </td></tr>\n",
       "\t<tr><td>1   </td><td>1   </td><td>10  </td><td>4   </td><td>0   </td><td>2241</td><td>1   </td><td>2   </td><td>1   </td><td>3   </td><td>⋯   </td><td>3   </td><td>1   </td><td>48  </td><td>3   </td><td>1   </td><td>2   </td><td>2   </td><td>2   </td><td>1   </td><td>2   </td></tr>\n",
       "</tbody>\n",
       "</table>\n"
      ],
      "text/latex": [
       "\\begin{tabular}{r|lllllllllllllllllllll}\n",
       " Creditability & Account Balance & Duration of Credit (month) & Payment Status of Previous Credit & Purpose & Credit Amount & Value Savings/Stocks & Length of current employment & Instalment per cent & Sex \\& Marital Status & ⋯ & Duration in Current address & Most valuable available asset & Age (years) & Concurrent Credits & Type of apartment & No of Credits at this Bank & Occupation & No of dependents & Telephone & Foreign Worker\\\\\n",
       "\\hline\n",
       "\t 1    & 1    & 18   & 4    & 2    & 1049 & 1    & 2    & 4    & 2    & ⋯    & 4    & 2    & 21   & 3    & 1    & 1    & 3    & 1    & 1    & 1   \\\\\n",
       "\t 1    & 1    &  9   & 4    & 0    & 2799 & 1    & 3    & 2    & 3    & ⋯    & 2    & 1    & 36   & 3    & 1    & 2    & 3    & 2    & 1    & 1   \\\\\n",
       "\t 1    & 2    & 12   & 2    & 9    &  841 & 2    & 4    & 2    & 2    & ⋯    & 4    & 1    & 23   & 3    & 1    & 1    & 2    & 1    & 1    & 1   \\\\\n",
       "\t 1    & 1    & 12   & 4    & 0    & 2122 & 1    & 3    & 3    & 3    & ⋯    & 2    & 1    & 39   & 3    & 1    & 2    & 2    & 2    & 1    & 2   \\\\\n",
       "\t 1    & 1    & 12   & 4    & 0    & 2171 & 1    & 3    & 4    & 3    & ⋯    & 4    & 2    & 38   & 1    & 2    & 2    & 2    & 1    & 1    & 2   \\\\\n",
       "\t 1    & 1    & 10   & 4    & 0    & 2241 & 1    & 2    & 1    & 3    & ⋯    & 3    & 1    & 48   & 3    & 1    & 2    & 2    & 2    & 1    & 2   \\\\\n",
       "\\end{tabular}\n"
      ],
      "text/markdown": [
       "\n",
       "Creditability | Account Balance | Duration of Credit (month) | Payment Status of Previous Credit | Purpose | Credit Amount | Value Savings/Stocks | Length of current employment | Instalment per cent | Sex & Marital Status | ⋯ | Duration in Current address | Most valuable available asset | Age (years) | Concurrent Credits | Type of apartment | No of Credits at this Bank | Occupation | No of dependents | Telephone | Foreign Worker | \n",
       "|---|---|---|---|---|---|\n",
       "| 1    | 1    | 18   | 4    | 2    | 1049 | 1    | 2    | 4    | 2    | ⋯    | 4    | 2    | 21   | 3    | 1    | 1    | 3    | 1    | 1    | 1    | \n",
       "| 1    | 1    |  9   | 4    | 0    | 2799 | 1    | 3    | 2    | 3    | ⋯    | 2    | 1    | 36   | 3    | 1    | 2    | 3    | 2    | 1    | 1    | \n",
       "| 1    | 2    | 12   | 2    | 9    |  841 | 2    | 4    | 2    | 2    | ⋯    | 4    | 1    | 23   | 3    | 1    | 1    | 2    | 1    | 1    | 1    | \n",
       "| 1    | 1    | 12   | 4    | 0    | 2122 | 1    | 3    | 3    | 3    | ⋯    | 2    | 1    | 39   | 3    | 1    | 2    | 2    | 2    | 1    | 2    | \n",
       "| 1    | 1    | 12   | 4    | 0    | 2171 | 1    | 3    | 4    | 3    | ⋯    | 4    | 2    | 38   | 1    | 2    | 2    | 2    | 1    | 1    | 2    | \n",
       "| 1    | 1    | 10   | 4    | 0    | 2241 | 1    | 2    | 1    | 3    | ⋯    | 3    | 1    | 48   | 3    | 1    | 2    | 2    | 2    | 1    | 2    | \n",
       "\n",
       "\n"
      ],
      "text/plain": [
       "  Creditability Account Balance Duration of Credit (month)\n",
       "1 1             1               18                        \n",
       "2 1             1                9                        \n",
       "3 1             2               12                        \n",
       "4 1             1               12                        \n",
       "5 1             1               12                        \n",
       "6 1             1               10                        \n",
       "  Payment Status of Previous Credit Purpose Credit Amount Value Savings/Stocks\n",
       "1 4                                 2       1049          1                   \n",
       "2 4                                 0       2799          1                   \n",
       "3 2                                 9        841          2                   \n",
       "4 4                                 0       2122          1                   \n",
       "5 4                                 0       2171          1                   \n",
       "6 4                                 0       2241          1                   \n",
       "  Length of current employment Instalment per cent Sex & Marital Status ⋯\n",
       "1 2                            4                   2                    ⋯\n",
       "2 3                            2                   3                    ⋯\n",
       "3 4                            2                   2                    ⋯\n",
       "4 3                            3                   3                    ⋯\n",
       "5 3                            4                   3                    ⋯\n",
       "6 2                            1                   3                    ⋯\n",
       "  Duration in Current address Most valuable available asset Age (years)\n",
       "1 4                           2                             21         \n",
       "2 2                           1                             36         \n",
       "3 4                           1                             23         \n",
       "4 2                           1                             39         \n",
       "5 4                           2                             38         \n",
       "6 3                           1                             48         \n",
       "  Concurrent Credits Type of apartment No of Credits at this Bank Occupation\n",
       "1 3                  1                 1                          3         \n",
       "2 3                  1                 2                          3         \n",
       "3 3                  1                 1                          2         \n",
       "4 3                  1                 2                          2         \n",
       "5 1                  2                 2                          2         \n",
       "6 3                  1                 2                          2         \n",
       "  No of dependents Telephone Foreign Worker\n",
       "1 1                1         1             \n",
       "2 2                1         1             \n",
       "3 1                1         1             \n",
       "4 2                1         2             \n",
       "5 1                1         2             \n",
       "6 2                1         2             "
      ]
     },
     "metadata": {},
     "output_type": "display_data"
    }
   ],
   "source": [
    "h2o.head(data)"
   ]
  },
  {
   "cell_type": "code",
   "execution_count": 3,
   "metadata": {},
   "outputs": [
    {
     "data": {
      "text/html": [
       "<table>\n",
       "<thead><tr><th scope=col>Label</th><th scope=col>Type</th><th scope=col>Missing</th><th scope=col>Zeros</th><th scope=col>PosInf</th><th scope=col>NegInf</th><th scope=col>Min</th><th scope=col>Max</th><th scope=col>Mean</th><th scope=col>Sigma</th><th scope=col>Cardinality</th></tr></thead>\n",
       "<tbody>\n",
       "\t<tr><td>Creditability                    </td><td>int                              </td><td>0                                </td><td>300                              </td><td>0                                </td><td>0                                </td><td>0                                </td><td>1                                </td><td>0.7                              </td><td>0.458486870270251                </td><td>NA                               </td></tr>\n",
       "\t<tr><td>Account Balance                  </td><td>int                              </td><td>0                                </td><td>0                                </td><td>0                                </td><td>0                                </td><td>1                                </td><td>4                                </td><td>2.577                            </td><td>1.25763772711089                 </td><td>NA                               </td></tr>\n",
       "\t<tr><td>Duration of Credit (month)       </td><td>int                              </td><td>0                                </td><td>0                                </td><td>0                                </td><td>0                                </td><td>4                                </td><td>72                               </td><td>20.903                           </td><td>12.0588144527564                 </td><td>NA                               </td></tr>\n",
       "\t<tr><td>Payment Status of Previous Credit</td><td>int                              </td><td>0                                </td><td>40                               </td><td>0                                </td><td>0                                </td><td>0                                </td><td>4                                </td><td>2.545                            </td><td>1.08311963704299                 </td><td>NA                               </td></tr>\n",
       "\t<tr><td>Purpose                          </td><td>int                              </td><td>0                                </td><td>234                              </td><td>0                                </td><td>0                                </td><td>0                                </td><td>10                               </td><td>2.828                            </td><td>2.74443945969809                 </td><td>NA                               </td></tr>\n",
       "\t<tr><td>Credit Amount                    </td><td>int                              </td><td>0                                </td><td>0                                </td><td>0                                </td><td>0                                </td><td>250                              </td><td>18424                            </td><td>3271.248                         </td><td>2822.75175989565                 </td><td>NA                               </td></tr>\n",
       "\t<tr><td>Value Savings/Stocks             </td><td>int                              </td><td>0                                </td><td>0                                </td><td>0                                </td><td>0                                </td><td>1                                </td><td>5                                </td><td>2.105                            </td><td>1.58002261739238                 </td><td>NA                               </td></tr>\n",
       "\t<tr><td>Length of current employment     </td><td>int                              </td><td>0                                </td><td>0                                </td><td>0                                </td><td>0                                </td><td>1                                </td><td>5                                </td><td>3.384                            </td><td>1.20830625422697                 </td><td>NA                               </td></tr>\n",
       "\t<tr><td>Instalment per cent              </td><td>int                              </td><td>0                                </td><td>0                                </td><td>0                                </td><td>0                                </td><td>1                                </td><td>4                                </td><td>2.973                            </td><td>1.11871467431268                 </td><td>NA                               </td></tr>\n",
       "\t<tr><td><span style=white-space:pre-wrap>Sex &amp; Marital Status             </span></td><td>int                                                                          </td><td>0                                                                            </td><td><span style=white-space:pre-wrap>0  </span>                                  </td><td>0                                                                            </td><td>0                                                                            </td><td><span style=white-space:pre-wrap>1  </span>                                  </td><td><span style=white-space:pre-wrap>4    </span>                                </td><td><span style=white-space:pre-wrap>2.682   </span>                             </td><td>0.708080064242298                                                            </td><td>NA                                                                           </td></tr>\n",
       "\t<tr><td>Guarantors                       </td><td>int                              </td><td>0                                </td><td>0                                </td><td>0                                </td><td>0                                </td><td>1                                </td><td>3                                </td><td>1.145                            </td><td>0.477706189203367                </td><td>NA                               </td></tr>\n",
       "\t<tr><td>Duration in Current address      </td><td>int                              </td><td>0                                </td><td>0                                </td><td>0                                </td><td>0                                </td><td>1                                </td><td>4                                </td><td>2.845                            </td><td>1.10371789565685                 </td><td>NA                               </td></tr>\n",
       "\t<tr><td>Most valuable available asset    </td><td>int                              </td><td>0                                </td><td>0                                </td><td>0                                </td><td>0                                </td><td>1                                </td><td>4                                </td><td>2.358                            </td><td>1.05020899774232                 </td><td>NA                               </td></tr>\n",
       "\t<tr><td>Age (years)                      </td><td>int                              </td><td>0                                </td><td>0                                </td><td>0                                </td><td>0                                </td><td>19                               </td><td>75                               </td><td>35.542                           </td><td>11.3526701316967                 </td><td>NA                               </td></tr>\n",
       "\t<tr><td>Concurrent Credits               </td><td>int                              </td><td>0                                </td><td>0                                </td><td>0                                </td><td>0                                </td><td>1                                </td><td>3                                </td><td>2.675                            </td><td>0.70560107204629                 </td><td>NA                               </td></tr>\n",
       "\t<tr><td>Type of apartment                </td><td>int                              </td><td>0                                </td><td>0                                </td><td>0                                </td><td>0                                </td><td>1                                </td><td>3                                </td><td>1.928                            </td><td>0.530185908052163                </td><td>NA                               </td></tr>\n",
       "\t<tr><td>No of Credits at this Bank       </td><td>int                              </td><td>0                                </td><td>0                                </td><td>0                                </td><td>0                                </td><td>1                                </td><td>4                                </td><td>1.407                            </td><td>0.5776544682461                  </td><td>NA                               </td></tr>\n",
       "\t<tr><td>Occupation                       </td><td>int                              </td><td>0                                </td><td>0                                </td><td>0                                </td><td>0                                </td><td>1                                </td><td>4                                </td><td>2.904                            </td><td>0.653613961915756                </td><td>NA                               </td></tr>\n",
       "\t<tr><td>No of dependents                 </td><td>int                              </td><td>0                                </td><td>0                                </td><td>0                                </td><td>0                                </td><td>1                                </td><td>2                                </td><td>1.155                            </td><td>0.362085771753194                </td><td>NA                               </td></tr>\n",
       "\t<tr><td>Telephone                        </td><td>int                              </td><td>0                                </td><td>0                                </td><td>0                                </td><td>0                                </td><td>1                                </td><td>2                                </td><td>1.404                            </td><td>0.490942995698101                </td><td>NA                               </td></tr>\n",
       "\t<tr><td>Foreign Worker                   </td><td>int                              </td><td>0                                </td><td>0                                </td><td>0                                </td><td>0                                </td><td>1                                </td><td>2                                </td><td>1.037                            </td><td>0.18885620632287                 </td><td>NA                               </td></tr>\n",
       "</tbody>\n",
       "</table>\n"
      ],
      "text/latex": [
       "\\begin{tabular}{r|lllllllllll}\n",
       " Label & Type & Missing & Zeros & PosInf & NegInf & Min & Max & Mean & Sigma & Cardinality\\\\\n",
       "\\hline\n",
       "\t Creditability                     & int                               & 0                                 & 300                               & 0                                 & 0                                 & 0                                 & 1                                 & 0.7                               & 0.458486870270251                 & NA                               \\\\\n",
       "\t Account Balance                   & int                               & 0                                 & 0                                 & 0                                 & 0                                 & 1                                 & 4                                 & 2.577                             & 1.25763772711089                  & NA                               \\\\\n",
       "\t Duration of Credit (month)        & int                               & 0                                 & 0                                 & 0                                 & 0                                 & 4                                 & 72                                & 20.903                            & 12.0588144527564                  & NA                               \\\\\n",
       "\t Payment Status of Previous Credit & int                               & 0                                 & 40                                & 0                                 & 0                                 & 0                                 & 4                                 & 2.545                             & 1.08311963704299                  & NA                               \\\\\n",
       "\t Purpose                           & int                               & 0                                 & 234                               & 0                                 & 0                                 & 0                                 & 10                                & 2.828                             & 2.74443945969809                  & NA                               \\\\\n",
       "\t Credit Amount                     & int                               & 0                                 & 0                                 & 0                                 & 0                                 & 250                               & 18424                             & 3271.248                          & 2822.75175989565                  & NA                               \\\\\n",
       "\t Value Savings/Stocks              & int                               & 0                                 & 0                                 & 0                                 & 0                                 & 1                                 & 5                                 & 2.105                             & 1.58002261739238                  & NA                               \\\\\n",
       "\t Length of current employment      & int                               & 0                                 & 0                                 & 0                                 & 0                                 & 1                                 & 5                                 & 3.384                             & 1.20830625422697                  & NA                               \\\\\n",
       "\t Instalment per cent               & int                               & 0                                 & 0                                 & 0                                 & 0                                 & 1                                 & 4                                 & 2.973                             & 1.11871467431268                  & NA                               \\\\\n",
       "\t Sex \\& Marital Status              & int                                 & 0                                   & 0                                   & 0                                   & 0                                   & 1                                   & 4                                   & 2.682                               & 0.708080064242298                   & NA                                 \\\\\n",
       "\t Guarantors                        & int                               & 0                                 & 0                                 & 0                                 & 0                                 & 1                                 & 3                                 & 1.145                             & 0.477706189203367                 & NA                               \\\\\n",
       "\t Duration in Current address       & int                               & 0                                 & 0                                 & 0                                 & 0                                 & 1                                 & 4                                 & 2.845                             & 1.10371789565685                  & NA                               \\\\\n",
       "\t Most valuable available asset     & int                               & 0                                 & 0                                 & 0                                 & 0                                 & 1                                 & 4                                 & 2.358                             & 1.05020899774232                  & NA                               \\\\\n",
       "\t Age (years)                       & int                               & 0                                 & 0                                 & 0                                 & 0                                 & 19                                & 75                                & 35.542                            & 11.3526701316967                  & NA                               \\\\\n",
       "\t Concurrent Credits                & int                               & 0                                 & 0                                 & 0                                 & 0                                 & 1                                 & 3                                 & 2.675                             & 0.70560107204629                  & NA                               \\\\\n",
       "\t Type of apartment                 & int                               & 0                                 & 0                                 & 0                                 & 0                                 & 1                                 & 3                                 & 1.928                             & 0.530185908052163                 & NA                               \\\\\n",
       "\t No of Credits at this Bank        & int                               & 0                                 & 0                                 & 0                                 & 0                                 & 1                                 & 4                                 & 1.407                             & 0.5776544682461                   & NA                               \\\\\n",
       "\t Occupation                        & int                               & 0                                 & 0                                 & 0                                 & 0                                 & 1                                 & 4                                 & 2.904                             & 0.653613961915756                 & NA                               \\\\\n",
       "\t No of dependents                  & int                               & 0                                 & 0                                 & 0                                 & 0                                 & 1                                 & 2                                 & 1.155                             & 0.362085771753194                 & NA                               \\\\\n",
       "\t Telephone                         & int                               & 0                                 & 0                                 & 0                                 & 0                                 & 1                                 & 2                                 & 1.404                             & 0.490942995698101                 & NA                               \\\\\n",
       "\t Foreign Worker                    & int                               & 0                                 & 0                                 & 0                                 & 0                                 & 1                                 & 2                                 & 1.037                             & 0.18885620632287                  & NA                               \\\\\n",
       "\\end{tabular}\n"
      ],
      "text/markdown": [
       "\n",
       "Label | Type | Missing | Zeros | PosInf | NegInf | Min | Max | Mean | Sigma | Cardinality | \n",
       "|---|---|---|---|---|---|---|---|---|---|---|---|---|---|---|---|---|---|---|---|---|\n",
       "| Creditability                     | int                               | 0                                 | 300                               | 0                                 | 0                                 | 0                                 | 1                                 | 0.7                               | 0.458486870270251                 | NA                                | \n",
       "| Account Balance                   | int                               | 0                                 | 0                                 | 0                                 | 0                                 | 1                                 | 4                                 | 2.577                             | 1.25763772711089                  | NA                                | \n",
       "| Duration of Credit (month)        | int                               | 0                                 | 0                                 | 0                                 | 0                                 | 4                                 | 72                                | 20.903                            | 12.0588144527564                  | NA                                | \n",
       "| Payment Status of Previous Credit | int                               | 0                                 | 40                                | 0                                 | 0                                 | 0                                 | 4                                 | 2.545                             | 1.08311963704299                  | NA                                | \n",
       "| Purpose                           | int                               | 0                                 | 234                               | 0                                 | 0                                 | 0                                 | 10                                | 2.828                             | 2.74443945969809                  | NA                                | \n",
       "| Credit Amount                     | int                               | 0                                 | 0                                 | 0                                 | 0                                 | 250                               | 18424                             | 3271.248                          | 2822.75175989565                  | NA                                | \n",
       "| Value Savings/Stocks              | int                               | 0                                 | 0                                 | 0                                 | 0                                 | 1                                 | 5                                 | 2.105                             | 1.58002261739238                  | NA                                | \n",
       "| Length of current employment      | int                               | 0                                 | 0                                 | 0                                 | 0                                 | 1                                 | 5                                 | 3.384                             | 1.20830625422697                  | NA                                | \n",
       "| Instalment per cent               | int                               | 0                                 | 0                                 | 0                                 | 0                                 | 1                                 | 4                                 | 2.973                             | 1.11871467431268                  | NA                                | \n",
       "| Sex & Marital Status              | int                               | 0                                 | 0                                 | 0                                 | 0                                 | 1                                 | 4                                 | 2.682                             | 0.708080064242298                 | NA                                | \n",
       "| Guarantors                        | int                               | 0                                 | 0                                 | 0                                 | 0                                 | 1                                 | 3                                 | 1.145                             | 0.477706189203367                 | NA                                | \n",
       "| Duration in Current address       | int                               | 0                                 | 0                                 | 0                                 | 0                                 | 1                                 | 4                                 | 2.845                             | 1.10371789565685                  | NA                                | \n",
       "| Most valuable available asset     | int                               | 0                                 | 0                                 | 0                                 | 0                                 | 1                                 | 4                                 | 2.358                             | 1.05020899774232                  | NA                                | \n",
       "| Age (years)                       | int                               | 0                                 | 0                                 | 0                                 | 0                                 | 19                                | 75                                | 35.542                            | 11.3526701316967                  | NA                                | \n",
       "| Concurrent Credits                | int                               | 0                                 | 0                                 | 0                                 | 0                                 | 1                                 | 3                                 | 2.675                             | 0.70560107204629                  | NA                                | \n",
       "| Type of apartment                 | int                               | 0                                 | 0                                 | 0                                 | 0                                 | 1                                 | 3                                 | 1.928                             | 0.530185908052163                 | NA                                | \n",
       "| No of Credits at this Bank        | int                               | 0                                 | 0                                 | 0                                 | 0                                 | 1                                 | 4                                 | 1.407                             | 0.5776544682461                   | NA                                | \n",
       "| Occupation                        | int                               | 0                                 | 0                                 | 0                                 | 0                                 | 1                                 | 4                                 | 2.904                             | 0.653613961915756                 | NA                                | \n",
       "| No of dependents                  | int                               | 0                                 | 0                                 | 0                                 | 0                                 | 1                                 | 2                                 | 1.155                             | 0.362085771753194                 | NA                                | \n",
       "| Telephone                         | int                               | 0                                 | 0                                 | 0                                 | 0                                 | 1                                 | 2                                 | 1.404                             | 0.490942995698101                 | NA                                | \n",
       "| Foreign Worker                    | int                               | 0                                 | 0                                 | 0                                 | 0                                 | 1                                 | 2                                 | 1.037                             | 0.18885620632287                  | NA                                | \n",
       "\n",
       "\n"
      ],
      "text/plain": [
       "   Label                             Type Missing Zeros PosInf NegInf Min Max  \n",
       "1  Creditability                     int  0       300   0      0      0   1    \n",
       "2  Account Balance                   int  0       0     0      0      1   4    \n",
       "3  Duration of Credit (month)        int  0       0     0      0      4   72   \n",
       "4  Payment Status of Previous Credit int  0       40    0      0      0   4    \n",
       "5  Purpose                           int  0       234   0      0      0   10   \n",
       "6  Credit Amount                     int  0       0     0      0      250 18424\n",
       "7  Value Savings/Stocks              int  0       0     0      0      1   5    \n",
       "8  Length of current employment      int  0       0     0      0      1   5    \n",
       "9  Instalment per cent               int  0       0     0      0      1   4    \n",
       "10 Sex & Marital Status              int  0       0     0      0      1   4    \n",
       "11 Guarantors                        int  0       0     0      0      1   3    \n",
       "12 Duration in Current address       int  0       0     0      0      1   4    \n",
       "13 Most valuable available asset     int  0       0     0      0      1   4    \n",
       "14 Age (years)                       int  0       0     0      0      19  75   \n",
       "15 Concurrent Credits                int  0       0     0      0      1   3    \n",
       "16 Type of apartment                 int  0       0     0      0      1   3    \n",
       "17 No of Credits at this Bank        int  0       0     0      0      1   4    \n",
       "18 Occupation                        int  0       0     0      0      1   4    \n",
       "19 No of dependents                  int  0       0     0      0      1   2    \n",
       "20 Telephone                         int  0       0     0      0      1   2    \n",
       "21 Foreign Worker                    int  0       0     0      0      1   2    \n",
       "   Mean     Sigma             Cardinality\n",
       "1  0.7      0.458486870270251 NA         \n",
       "2  2.577    1.25763772711089  NA         \n",
       "3  20.903   12.0588144527564  NA         \n",
       "4  2.545    1.08311963704299  NA         \n",
       "5  2.828    2.74443945969809  NA         \n",
       "6  3271.248 2822.75175989565  NA         \n",
       "7  2.105    1.58002261739238  NA         \n",
       "8  3.384    1.20830625422697  NA         \n",
       "9  2.973    1.11871467431268  NA         \n",
       "10 2.682    0.708080064242298 NA         \n",
       "11 1.145    0.477706189203367 NA         \n",
       "12 2.845    1.10371789565685  NA         \n",
       "13 2.358    1.05020899774232  NA         \n",
       "14 35.542   11.3526701316967  NA         \n",
       "15 2.675    0.70560107204629  NA         \n",
       "16 1.928    0.530185908052163 NA         \n",
       "17 1.407    0.5776544682461   NA         \n",
       "18 2.904    0.653613961915756 NA         \n",
       "19 1.155    0.362085771753194 NA         \n",
       "20 1.404    0.490942995698101 NA         \n",
       "21 1.037    0.18885620632287  NA         "
      ]
     },
     "metadata": {},
     "output_type": "display_data"
    }
   ],
   "source": [
    "h2o.describe(data)"
   ]
  },
  {
   "cell_type": "code",
   "execution_count": 4,
   "metadata": {
    "collapsed": true
   },
   "outputs": [],
   "source": [
    "### Convert Numeric to Categorical ###\n",
    "to_factors <- c(1,2,4,5,7,8,9,10,11,12,13,15,16,17,18,19,20)\n",
    "for(i in to_factors) data[,i] <- h2o.asfactor(data[,i])"
   ]
  },
  {
   "cell_type": "code",
   "execution_count": 5,
   "metadata": {},
   "outputs": [
    {
     "data": {
      "text/html": [
       "<table>\n",
       "<thead><tr><th scope=col>Label</th><th scope=col>Type</th><th scope=col>Missing</th><th scope=col>Zeros</th><th scope=col>PosInf</th><th scope=col>NegInf</th><th scope=col>Min</th><th scope=col>Max</th><th scope=col>Mean</th><th scope=col>Sigma</th><th scope=col>Cardinality</th></tr></thead>\n",
       "<tbody>\n",
       "\t<tr><td>Creditability                    </td><td>enum                             </td><td>0                                </td><td>300                              </td><td>0                                </td><td>0                                </td><td>0                                </td><td>1                                </td><td>0.7                              </td><td>0.458486870270251                </td><td>2                                </td></tr>\n",
       "\t<tr><td>Account Balance                  </td><td>enum                             </td><td>0                                </td><td>274                              </td><td>0                                </td><td>0                                </td><td>0                                </td><td>3                                </td><td>NA                               </td><td>NA                               </td><td>4                                </td></tr>\n",
       "\t<tr><td>Duration of Credit (month)       </td><td>int                              </td><td>0                                </td><td>0                                </td><td>0                                </td><td>0                                </td><td>4                                </td><td>72                               </td><td>20.903                           </td><td>12.0588144527564                 </td><td>NA                               </td></tr>\n",
       "\t<tr><td>Payment Status of Previous Credit</td><td>enum                             </td><td>0                                </td><td>40                               </td><td>0                                </td><td>0                                </td><td>0                                </td><td>4                                </td><td>NA                               </td><td>NA                               </td><td>5                                </td></tr>\n",
       "\t<tr><td>Purpose                          </td><td>enum                             </td><td>0                                </td><td>234                              </td><td>0                                </td><td>0                                </td><td>0                                </td><td>9                                </td><td>NA                               </td><td>NA                               </td><td>10                               </td></tr>\n",
       "\t<tr><td>Credit Amount                    </td><td>int                              </td><td>0                                </td><td>0                                </td><td>0                                </td><td>0                                </td><td>250                              </td><td>18424                            </td><td>3271.248                         </td><td>2822.75175989565                 </td><td>NA                               </td></tr>\n",
       "\t<tr><td>Value Savings/Stocks             </td><td>enum                             </td><td>0                                </td><td>603                              </td><td>0                                </td><td>0                                </td><td>0                                </td><td>4                                </td><td>NA                               </td><td>NA                               </td><td>5                                </td></tr>\n",
       "\t<tr><td>Length of current employment     </td><td>enum                             </td><td>0                                </td><td>62                               </td><td>0                                </td><td>0                                </td><td>0                                </td><td>4                                </td><td>NA                               </td><td>NA                               </td><td>5                                </td></tr>\n",
       "\t<tr><td>Instalment per cent              </td><td>enum                             </td><td>0                                </td><td>136                              </td><td>0                                </td><td>0                                </td><td>0                                </td><td>3                                </td><td>NA                               </td><td>NA                               </td><td>4                                </td></tr>\n",
       "\t<tr><td><span style=white-space:pre-wrap>Sex &amp; Marital Status             </span></td><td>enum                                                                         </td><td>0                                                                            </td><td>50                                                                           </td><td>0                                                                            </td><td>0                                                                            </td><td><span style=white-space:pre-wrap>0  </span>                                  </td><td><span style=white-space:pre-wrap>3    </span>                                </td><td><span style=white-space:pre-wrap>NA      </span>                             </td><td><span style=white-space:pre-wrap>NA               </span>                    </td><td>4                                                                            </td></tr>\n",
       "\t<tr><td>Guarantors                       </td><td>enum                             </td><td>0                                </td><td>907                              </td><td>0                                </td><td>0                                </td><td>0                                </td><td>2                                </td><td>NA                               </td><td>NA                               </td><td>3                                </td></tr>\n",
       "\t<tr><td>Duration in Current address      </td><td>enum                             </td><td>0                                </td><td>130                              </td><td>0                                </td><td>0                                </td><td>0                                </td><td>3                                </td><td>NA                               </td><td>NA                               </td><td>4                                </td></tr>\n",
       "\t<tr><td>Most valuable available asset    </td><td>enum                             </td><td>0                                </td><td>282                              </td><td>0                                </td><td>0                                </td><td>0                                </td><td>3                                </td><td>NA                               </td><td>NA                               </td><td>4                                </td></tr>\n",
       "\t<tr><td>Age (years)                      </td><td>int                              </td><td>0                                </td><td>0                                </td><td>0                                </td><td>0                                </td><td>19                               </td><td>75                               </td><td>35.542                           </td><td>11.3526701316967                 </td><td>NA                               </td></tr>\n",
       "\t<tr><td>Concurrent Credits               </td><td>enum                             </td><td>0                                </td><td>139                              </td><td>0                                </td><td>0                                </td><td>0                                </td><td>2                                </td><td>NA                               </td><td>NA                               </td><td>3                                </td></tr>\n",
       "\t<tr><td>Type of apartment                </td><td>enum                             </td><td>0                                </td><td>179                              </td><td>0                                </td><td>0                                </td><td>0                                </td><td>2                                </td><td>NA                               </td><td>NA                               </td><td>3                                </td></tr>\n",
       "\t<tr><td>No of Credits at this Bank       </td><td>enum                             </td><td>0                                </td><td>633                              </td><td>0                                </td><td>0                                </td><td>0                                </td><td>3                                </td><td>NA                               </td><td>NA                               </td><td>4                                </td></tr>\n",
       "\t<tr><td>Occupation                       </td><td>enum                             </td><td>0                                </td><td>22                               </td><td>0                                </td><td>0                                </td><td>0                                </td><td>3                                </td><td>NA                               </td><td>NA                               </td><td>4                                </td></tr>\n",
       "\t<tr><td>No of dependents                 </td><td>enum                             </td><td>0                                </td><td>845                              </td><td>0                                </td><td>0                                </td><td>0                                </td><td>1                                </td><td>0.155                            </td><td>0.362085771753194                </td><td>2                                </td></tr>\n",
       "\t<tr><td>Telephone                        </td><td>enum                             </td><td>0                                </td><td>596                              </td><td>0                                </td><td>0                                </td><td>0                                </td><td>1                                </td><td>0.404                            </td><td>0.4909429956981                  </td><td>2                                </td></tr>\n",
       "\t<tr><td>Foreign Worker                   </td><td>int                              </td><td>0                                </td><td>0                                </td><td>0                                </td><td>0                                </td><td>1                                </td><td>2                                </td><td>1.037                            </td><td>0.18885620632287                 </td><td>NA                               </td></tr>\n",
       "</tbody>\n",
       "</table>\n"
      ],
      "text/latex": [
       "\\begin{tabular}{r|lllllllllll}\n",
       " Label & Type & Missing & Zeros & PosInf & NegInf & Min & Max & Mean & Sigma & Cardinality\\\\\n",
       "\\hline\n",
       "\t Creditability                     & enum                              & 0                                 & 300                               & 0                                 & 0                                 & 0                                 & 1                                 & 0.7                               & 0.458486870270251                 & 2                                \\\\\n",
       "\t Account Balance                   & enum                              & 0                                 & 274                               & 0                                 & 0                                 & 0                                 & 3                                 & NA                                & NA                                & 4                                \\\\\n",
       "\t Duration of Credit (month)        & int                               & 0                                 & 0                                 & 0                                 & 0                                 & 4                                 & 72                                & 20.903                            & 12.0588144527564                  & NA                               \\\\\n",
       "\t Payment Status of Previous Credit & enum                              & 0                                 & 40                                & 0                                 & 0                                 & 0                                 & 4                                 & NA                                & NA                                & 5                                \\\\\n",
       "\t Purpose                           & enum                              & 0                                 & 234                               & 0                                 & 0                                 & 0                                 & 9                                 & NA                                & NA                                & 10                               \\\\\n",
       "\t Credit Amount                     & int                               & 0                                 & 0                                 & 0                                 & 0                                 & 250                               & 18424                             & 3271.248                          & 2822.75175989565                  & NA                               \\\\\n",
       "\t Value Savings/Stocks              & enum                              & 0                                 & 603                               & 0                                 & 0                                 & 0                                 & 4                                 & NA                                & NA                                & 5                                \\\\\n",
       "\t Length of current employment      & enum                              & 0                                 & 62                                & 0                                 & 0                                 & 0                                 & 4                                 & NA                                & NA                                & 5                                \\\\\n",
       "\t Instalment per cent               & enum                              & 0                                 & 136                               & 0                                 & 0                                 & 0                                 & 3                                 & NA                                & NA                                & 4                                \\\\\n",
       "\t Sex \\& Marital Status              & enum                                & 0                                   & 50                                  & 0                                   & 0                                   & 0                                   & 3                                   & NA                                  & NA                                  & 4                                  \\\\\n",
       "\t Guarantors                        & enum                              & 0                                 & 907                               & 0                                 & 0                                 & 0                                 & 2                                 & NA                                & NA                                & 3                                \\\\\n",
       "\t Duration in Current address       & enum                              & 0                                 & 130                               & 0                                 & 0                                 & 0                                 & 3                                 & NA                                & NA                                & 4                                \\\\\n",
       "\t Most valuable available asset     & enum                              & 0                                 & 282                               & 0                                 & 0                                 & 0                                 & 3                                 & NA                                & NA                                & 4                                \\\\\n",
       "\t Age (years)                       & int                               & 0                                 & 0                                 & 0                                 & 0                                 & 19                                & 75                                & 35.542                            & 11.3526701316967                  & NA                               \\\\\n",
       "\t Concurrent Credits                & enum                              & 0                                 & 139                               & 0                                 & 0                                 & 0                                 & 2                                 & NA                                & NA                                & 3                                \\\\\n",
       "\t Type of apartment                 & enum                              & 0                                 & 179                               & 0                                 & 0                                 & 0                                 & 2                                 & NA                                & NA                                & 3                                \\\\\n",
       "\t No of Credits at this Bank        & enum                              & 0                                 & 633                               & 0                                 & 0                                 & 0                                 & 3                                 & NA                                & NA                                & 4                                \\\\\n",
       "\t Occupation                        & enum                              & 0                                 & 22                                & 0                                 & 0                                 & 0                                 & 3                                 & NA                                & NA                                & 4                                \\\\\n",
       "\t No of dependents                  & enum                              & 0                                 & 845                               & 0                                 & 0                                 & 0                                 & 1                                 & 0.155                             & 0.362085771753194                 & 2                                \\\\\n",
       "\t Telephone                         & enum                              & 0                                 & 596                               & 0                                 & 0                                 & 0                                 & 1                                 & 0.404                             & 0.4909429956981                   & 2                                \\\\\n",
       "\t Foreign Worker                    & int                               & 0                                 & 0                                 & 0                                 & 0                                 & 1                                 & 2                                 & 1.037                             & 0.18885620632287                  & NA                               \\\\\n",
       "\\end{tabular}\n"
      ],
      "text/markdown": [
       "\n",
       "Label | Type | Missing | Zeros | PosInf | NegInf | Min | Max | Mean | Sigma | Cardinality | \n",
       "|---|---|---|---|---|---|---|---|---|---|---|---|---|---|---|---|---|---|---|---|---|\n",
       "| Creditability                     | enum                              | 0                                 | 300                               | 0                                 | 0                                 | 0                                 | 1                                 | 0.7                               | 0.458486870270251                 | 2                                 | \n",
       "| Account Balance                   | enum                              | 0                                 | 274                               | 0                                 | 0                                 | 0                                 | 3                                 | NA                                | NA                                | 4                                 | \n",
       "| Duration of Credit (month)        | int                               | 0                                 | 0                                 | 0                                 | 0                                 | 4                                 | 72                                | 20.903                            | 12.0588144527564                  | NA                                | \n",
       "| Payment Status of Previous Credit | enum                              | 0                                 | 40                                | 0                                 | 0                                 | 0                                 | 4                                 | NA                                | NA                                | 5                                 | \n",
       "| Purpose                           | enum                              | 0                                 | 234                               | 0                                 | 0                                 | 0                                 | 9                                 | NA                                | NA                                | 10                                | \n",
       "| Credit Amount                     | int                               | 0                                 | 0                                 | 0                                 | 0                                 | 250                               | 18424                             | 3271.248                          | 2822.75175989565                  | NA                                | \n",
       "| Value Savings/Stocks              | enum                              | 0                                 | 603                               | 0                                 | 0                                 | 0                                 | 4                                 | NA                                | NA                                | 5                                 | \n",
       "| Length of current employment      | enum                              | 0                                 | 62                                | 0                                 | 0                                 | 0                                 | 4                                 | NA                                | NA                                | 5                                 | \n",
       "| Instalment per cent               | enum                              | 0                                 | 136                               | 0                                 | 0                                 | 0                                 | 3                                 | NA                                | NA                                | 4                                 | \n",
       "| Sex & Marital Status              | enum                              | 0                                 | 50                                | 0                                 | 0                                 | 0                                 | 3                                 | NA                                | NA                                | 4                                 | \n",
       "| Guarantors                        | enum                              | 0                                 | 907                               | 0                                 | 0                                 | 0                                 | 2                                 | NA                                | NA                                | 3                                 | \n",
       "| Duration in Current address       | enum                              | 0                                 | 130                               | 0                                 | 0                                 | 0                                 | 3                                 | NA                                | NA                                | 4                                 | \n",
       "| Most valuable available asset     | enum                              | 0                                 | 282                               | 0                                 | 0                                 | 0                                 | 3                                 | NA                                | NA                                | 4                                 | \n",
       "| Age (years)                       | int                               | 0                                 | 0                                 | 0                                 | 0                                 | 19                                | 75                                | 35.542                            | 11.3526701316967                  | NA                                | \n",
       "| Concurrent Credits                | enum                              | 0                                 | 139                               | 0                                 | 0                                 | 0                                 | 2                                 | NA                                | NA                                | 3                                 | \n",
       "| Type of apartment                 | enum                              | 0                                 | 179                               | 0                                 | 0                                 | 0                                 | 2                                 | NA                                | NA                                | 3                                 | \n",
       "| No of Credits at this Bank        | enum                              | 0                                 | 633                               | 0                                 | 0                                 | 0                                 | 3                                 | NA                                | NA                                | 4                                 | \n",
       "| Occupation                        | enum                              | 0                                 | 22                                | 0                                 | 0                                 | 0                                 | 3                                 | NA                                | NA                                | 4                                 | \n",
       "| No of dependents                  | enum                              | 0                                 | 845                               | 0                                 | 0                                 | 0                                 | 1                                 | 0.155                             | 0.362085771753194                 | 2                                 | \n",
       "| Telephone                         | enum                              | 0                                 | 596                               | 0                                 | 0                                 | 0                                 | 1                                 | 0.404                             | 0.4909429956981                   | 2                                 | \n",
       "| Foreign Worker                    | int                               | 0                                 | 0                                 | 0                                 | 0                                 | 1                                 | 2                                 | 1.037                             | 0.18885620632287                  | NA                                | \n",
       "\n",
       "\n"
      ],
      "text/plain": [
       "   Label                             Type Missing Zeros PosInf NegInf Min Max  \n",
       "1  Creditability                     enum 0       300   0      0      0   1    \n",
       "2  Account Balance                   enum 0       274   0      0      0   3    \n",
       "3  Duration of Credit (month)        int  0       0     0      0      4   72   \n",
       "4  Payment Status of Previous Credit enum 0       40    0      0      0   4    \n",
       "5  Purpose                           enum 0       234   0      0      0   9    \n",
       "6  Credit Amount                     int  0       0     0      0      250 18424\n",
       "7  Value Savings/Stocks              enum 0       603   0      0      0   4    \n",
       "8  Length of current employment      enum 0       62    0      0      0   4    \n",
       "9  Instalment per cent               enum 0       136   0      0      0   3    \n",
       "10 Sex & Marital Status              enum 0       50    0      0      0   3    \n",
       "11 Guarantors                        enum 0       907   0      0      0   2    \n",
       "12 Duration in Current address       enum 0       130   0      0      0   3    \n",
       "13 Most valuable available asset     enum 0       282   0      0      0   3    \n",
       "14 Age (years)                       int  0       0     0      0      19  75   \n",
       "15 Concurrent Credits                enum 0       139   0      0      0   2    \n",
       "16 Type of apartment                 enum 0       179   0      0      0   2    \n",
       "17 No of Credits at this Bank        enum 0       633   0      0      0   3    \n",
       "18 Occupation                        enum 0       22    0      0      0   3    \n",
       "19 No of dependents                  enum 0       845   0      0      0   1    \n",
       "20 Telephone                         enum 0       596   0      0      0   1    \n",
       "21 Foreign Worker                    int  0       0     0      0      1   2    \n",
       "   Mean     Sigma             Cardinality\n",
       "1  0.7      0.458486870270251 2          \n",
       "2  NA       NA                4          \n",
       "3  20.903   12.0588144527564  NA         \n",
       "4  NA       NA                5          \n",
       "5  NA       NA                10         \n",
       "6  3271.248 2822.75175989565  NA         \n",
       "7  NA       NA                5          \n",
       "8  NA       NA                5          \n",
       "9  NA       NA                4          \n",
       "10 NA       NA                4          \n",
       "11 NA       NA                3          \n",
       "12 NA       NA                4          \n",
       "13 NA       NA                4          \n",
       "14 35.542   11.3526701316967  NA         \n",
       "15 NA       NA                3          \n",
       "16 NA       NA                3          \n",
       "17 NA       NA                4          \n",
       "18 NA       NA                4          \n",
       "19 0.155    0.362085771753194 2          \n",
       "20 0.404    0.4909429956981   2          \n",
       "21 1.037    0.18885620632287  NA         "
      ]
     },
     "metadata": {},
     "output_type": "display_data"
    }
   ],
   "source": [
    "h2o.describe(data)"
   ]
  },
  {
   "cell_type": "code",
   "execution_count": 6,
   "metadata": {},
   "outputs": [
    {
     "name": "stderr",
     "output_type": "stream",
     "text": [
      "Warning message in h2o.summary(data):\n",
      "“Approximated quantiles computed! If you are interested in exact quantiles, please pass the `exact_quantiles=TRUE` parameter.”"
     ]
    },
    {
     "data": {
      "text/plain": [
       " Creditability Account Balance Duration of Credit (month)\n",
       " 1:700         4:394           Min.   : 4.0              \n",
       " 0:300         1:274           1st Qu.:12.0              \n",
       "               2:269           Median :18.0              \n",
       "               3: 63           Mean   :20.9              \n",
       "                               3rd Qu.:24.0              \n",
       "                               Max.   :72.0              \n",
       " Payment Status of Previous Credit Purpose Credit Amount   Value Savings/Stocks\n",
       " 2:530                             3:280   Min.   :  250   1:603               \n",
       " 4:293                             0:234   1st Qu.: 1359   5:183               \n",
       " 3: 88                             2:181   Median : 2304   2:103               \n",
       " 1: 49                             1:103   Mean   : 3271   3: 63               \n",
       " 0: 40                             9: 97   3rd Qu.: 3958   4: 48               \n",
       "                                   6: 50   Max.   :18424                       \n",
       " Length of current employment Instalment per cent Sex & Marital Status\n",
       " 3:339                        4:476               3:548               \n",
       " 5:253                        2:231               2:310               \n",
       " 4:174                        3:157               4: 92               \n",
       " 2:172                        1:136               1: 50               \n",
       " 1: 62                                                                \n",
       "                                                                      \n",
       " Guarantors Duration in Current address Most valuable available asset\n",
       " 1:907      4:413                       3:332                        \n",
       " 3: 52      2:308                       1:282                        \n",
       " 2: 41      3:149                       2:232                        \n",
       "            1:130                       4:154                        \n",
       "                                                                     \n",
       "                                                                     \n",
       " Age (years)     Concurrent Credits Type of apartment\n",
       " Min.   :19.00   3:814              2:714            \n",
       " 1st Qu.:27.00   1:139              1:179            \n",
       " Median :33.00   2: 47              3:107            \n",
       " Mean   :35.54                                       \n",
       " 3rd Qu.:42.00                                       \n",
       " Max.   :75.00                                       \n",
       " No of Credits at this Bank Occupation No of dependents Telephone\n",
       " 1:633                      3:630      1:845            1:596    \n",
       " 2:333                      2:200      2:155            2:404    \n",
       " 3: 28                      4:148                                \n",
       " 4:  6                      1: 22                                \n",
       "                                                                 \n",
       "                                                                 \n",
       " Foreign Worker \n",
       " Min.   :1.000  \n",
       " 1st Qu.:1.000  \n",
       " Median :1.000  \n",
       " Mean   :1.037  \n",
       " 3rd Qu.:1.000  \n",
       " Max.   :2.000  "
      ]
     },
     "metadata": {},
     "output_type": "display_data"
    }
   ],
   "source": [
    "h2o.summary(data)"
   ]
  },
  {
   "cell_type": "code",
   "execution_count": 7,
   "metadata": {},
   "outputs": [
    {
     "name": "stdout",
     "output_type": "stream",
     "text": [
      "Class 'H2OFrame' <environment: 0x314cbf0> \n",
      " - attr(*, \"op\")= chr \":=\"\n",
      " - attr(*, \"eval\")= logi TRUE\n",
      " - attr(*, \"id\")= chr \"RTMP_sid_9e76_19\"\n",
      " - attr(*, \"nrow\")= int 1000\n",
      " - attr(*, \"ncol\")= int 21\n",
      " - attr(*, \"types\")=List of 21\n",
      "  ..$ : chr \"enum\"\n",
      "  ..$ : chr \"enum\"\n",
      "  ..$ : chr \"int\"\n",
      "  ..$ : chr \"enum\"\n",
      "  ..$ : chr \"enum\"\n",
      "  ..$ : chr \"int\"\n",
      "  ..$ : chr \"enum\"\n",
      "  ..$ : chr \"enum\"\n",
      "  ..$ : chr \"enum\"\n",
      "  ..$ : chr \"enum\"\n",
      "  ..$ : chr \"enum\"\n",
      "  ..$ : chr \"enum\"\n",
      "  ..$ : chr \"enum\"\n",
      "  ..$ : chr \"int\"\n",
      "  ..$ : chr \"enum\"\n",
      "  ..$ : chr \"enum\"\n",
      "  ..$ : chr \"enum\"\n",
      "  ..$ : chr \"enum\"\n",
      "  ..$ : chr \"enum\"\n",
      "  ..$ : chr \"enum\"\n",
      "  ..$ : chr \"int\"\n",
      " - attr(*, \"data\")='data.frame':\t10 obs. of  21 variables:\n",
      "  ..$ Creditability                    : Factor w/ 2 levels \"0\",\"1\": 2 2 2 2 2 2 2 2 2 2\n",
      "  ..$ Account Balance                  : Factor w/ 4 levels \"1\",\"2\",\"3\",\"4\": 1 1 2 1 1 1 1 1 4 2\n",
      "  ..$ Duration of Credit (month)       : num  18 9 12 12 12 10 8 6 18 24\n",
      "  ..$ Payment Status of Previous Credit: Factor w/ 5 levels \"0\",\"1\",\"2\",\"3\",..: 5 5 3 5 5 5 5 5 5 3\n",
      "  ..$ Purpose                          : Factor w/ 10 levels \"0\",\"1\",\"2\",\"3\",..: 3 1 9 1 1 1 1 1 4 4\n",
      "  ..$ Credit Amount                    : num  1049 2799 841 2122 2171 ...\n",
      "  ..$ Value Savings/Stocks             : Factor w/ 5 levels \"1\",\"2\",\"3\",\"4\",..: 1 1 2 1 1 1 1 1 1 3\n",
      "  ..$ Length of current employment     : Factor w/ 5 levels \"1\",\"2\",\"3\",\"4\",..: 2 3 4 3 3 2 4 2 1 1\n",
      "  ..$ Instalment per cent              : Factor w/ 4 levels \"1\",\"2\",\"3\",\"4\": 4 2 2 3 4 1 1 2 4 1\n",
      "  ..$ Sex & Marital Status             : Factor w/ 4 levels \"1\",\"2\",\"3\",\"4\": 2 3 2 3 3 3 3 3 2 2\n",
      "  ..$ Guarantors                       : Factor w/ 3 levels \"1\",\"2\",\"3\": 1 1 1 1 1 1 1 1 1 1\n",
      "  ..$ Duration in Current address      : Factor w/ 4 levels \"1\",\"2\",\"3\",\"4\": 4 2 4 2 4 3 4 4 4 4\n",
      "  ..$ Most valuable available asset    : Factor w/ 4 levels \"1\",\"2\",\"3\",\"4\": 2 1 1 1 2 1 1 1 3 4\n",
      "  ..$ Age (years)                      : num  21 36 23 39 38 48 39 40 65 23\n",
      "  ..$ Concurrent Credits               : Factor w/ 3 levels \"1\",\"2\",\"3\": 3 3 3 3 1 3 3 3 3 3\n",
      "  ..$ Type of apartment                : Factor w/ 3 levels \"1\",\"2\",\"3\": 1 1 1 1 2 1 2 2 2 1\n",
      "  ..$ No of Credits at this Bank       : Factor w/ 4 levels \"1\",\"2\",\"3\",\"4\": 1 2 1 2 2 2 2 1 2 1\n",
      "  ..$ Occupation                       : Factor w/ 4 levels \"1\",\"2\",\"3\",\"4\": 3 3 2 2 2 2 2 2 1 1\n",
      "  ..$ No of dependents                 : Factor w/ 2 levels \"1\",\"2\": 1 2 1 2 1 2 1 2 1 1\n",
      "  ..$ Telephone                        : Factor w/ 2 levels \"1\",\"2\": 1 1 1 1 1 1 1 1 1 1\n",
      "  ..$ Foreign Worker                   : num  1 1 1 2 2 2 2 2 1 1\n"
     ]
    }
   ],
   "source": [
    "h2o.str(data)"
   ]
  },
  {
   "cell_type": "code",
   "execution_count": 8,
   "metadata": {},
   "outputs": [
    {
     "data": {
      "text/plain": [
       "  Creditability nrow_Creditability\n",
       "1             0                300\n",
       "2             1                700\n",
       "\n",
       "[2 rows x 2 columns] "
      ]
     },
     "metadata": {},
     "output_type": "display_data"
    }
   ],
   "source": [
    "h2o.group_by(data, by=\"Creditability\",nrow(\"Creditability\"))"
   ]
  },
  {
   "cell_type": "code",
   "execution_count": 9,
   "metadata": {},
   "outputs": [
    {
     "data": {
      "image/png": "[encoded data removed]",
      "text/plain": [
       "Plot with title “Histogram of data[, \"Credit Amount\"]”"
      ]
     },
     "metadata": {},
     "output_type": "display_data"
    }
   ],
   "source": [
    "h2o.hist(data[,\"Credit Amount\"])\n",
    "#h2o.hist(data[,14])"
   ]
  },
  {
   "cell_type": "code",
   "execution_count": 10,
   "metadata": {},
   "outputs": [
    {
     "data": {
      "image/png": "[encoded data removed]",
      "text/plain": [
       "Plot with title “Histogram of data$credit_amount_trnsf”"
      ]
     },
     "metadata": {},
     "output_type": "display_data"
    }
   ],
   "source": [
    "data$credit_amount_trnsf <- h2o.log(data[,\"Credit Amount\"])\n",
    "h2o.hist(data$credit_amount_trnsf)"
   ]
  },
  {
   "cell_type": "code",
   "execution_count": 11,
   "metadata": {},
   "outputs": [],
   "source": [
    "target <- \"Creditability\""
   ]
  },
  {
   "cell_type": "code",
   "execution_count": 12,
   "metadata": {},
   "outputs": [
    {
     "name": "stdout",
     "output_type": "stream",
     "text": [
      "[1] \"Creditability\"\n"
     ]
    }
   ],
   "source": [
    "print(target)"
   ]
  },
  {
   "cell_type": "code",
   "execution_count": 13,
   "metadata": {},
   "outputs": [
    {
     "name": "stdout",
     "output_type": "stream",
     "text": [
      " [1] \"Account Balance\"                   \"Duration of Credit (month)\"       \n",
      " [3] \"Payment Status of Previous Credit\" \"Purpose\"                          \n",
      " [5] \"Credit Amount\"                     \"Value Savings/Stocks\"             \n",
      " [7] \"Length of current employment\"      \"Instalment per cent\"              \n",
      " [9] \"Sex & Marital Status\"              \"Guarantors\"                       \n",
      "[11] \"Duration in Current address\"       \"Most valuable available asset\"    \n",
      "[13] \"Age (years)\"                       \"Concurrent Credits\"               \n",
      "[15] \"Type of apartment\"                 \"No of Credits at this Bank\"       \n",
      "[17] \"Occupation\"                        \"No of dependents\"                 \n",
      "[19] \"Telephone\"                         \"Foreign Worker\"                   \n",
      "[21] \"credit_amount_trnsf\"              \n"
     ]
    }
   ],
   "source": [
    "a<-colnames(data)\n",
    "features <- a[2:22]\n",
    "print(features)"
   ]
  },
  {
   "cell_type": "code",
   "execution_count": 14,
   "metadata": {},
   "outputs": [],
   "source": [
    "set.seed(102) # Set Seed so that same sample can be reproduced in future also\n",
    "# Now Selecting 75% of data as sample from total 'n' rows of the data  \n",
    "\n",
    "# Split dataset giving the training dataset 75% of the data\n",
    "data.split <- h2o.splitFrame(data=data, ratios=0.75)\n",
    "\n",
    "# Create a training set from the 1st dataset in the split\n",
    "data.train <- data.split[[1]]\n",
    "\n",
    "# Create a testing set from the 2nd dataset in the split\n",
    "data.test <- data.split[[2]]\n"
   ]
  },
  {
   "cell_type": "code",
   "execution_count": 15,
   "metadata": {},
   "outputs": [
    {
     "data": {
      "text/html": [
       "767"
      ],
      "text/latex": [
       "767"
      ],
      "text/markdown": [
       "767"
      ],
      "text/plain": [
       "[1] 767"
      ]
     },
     "metadata": {},
     "output_type": "display_data"
    }
   ],
   "source": [
    "nrow(data.train)"
   ]
  },
  {
   "cell_type": "code",
   "execution_count": 16,
   "metadata": {},
   "outputs": [
    {
     "name": "stdout",
     "output_type": "stream",
     "text": [
      "\r",
      "  |                                                                            \r",
      "  |                                                                      |   0%\r",
      "  |                                                                            \r",
      "  |======================================================================| 100%\n"
     ]
    }
   ],
   "source": [
    "glm_model1 <- h2o.glm(x = features, \n",
    "                      y = target, \n",
    "                      training_frame = data.train,\n",
    "                      model_id = \"glm_model1\",\n",
    "                      family = \"binomial\")"
   ]
  },
  {
   "cell_type": "code",
   "execution_count": 17,
   "metadata": {},
   "outputs": [
    {
     "name": "stdout",
     "output_type": "stream",
     "text": [
      "Model Details:\n",
      "==============\n",
      "\n",
      "H2OBinomialModel: glm\n",
      "Model Key:  glm_model1 \n",
      "GLM Model: summary\n",
      "    family  link                               regularization\n",
      "1 binomial logit Elastic Net (alpha = 0.5, lambda = 0.02283 )\n",
      "  number_of_predictors_total number_of_active_predictors number_of_iterations\n",
      "1                         71                          18                    5\n",
      "    training_frame\n",
      "1 RTMP_sid_9e76_24\n",
      "\n",
      "H2OBinomialMetrics: glm\n",
      "** Reported on training data. **\n",
      "\n",
      "MSE:  0.1621729\n",
      "RMSE:  0.402707\n",
      "LogLoss:  0.4934618\n",
      "Mean Per-Class Error:  0.3228609\n",
      "AUC:  0.8069031\n",
      "Gini:  0.6138062\n",
      "R^2:  0.233218\n",
      "Null Deviance:  941.9281\n",
      "Residual Deviance:  756.9705\n",
      "AIC:  794.9705\n",
      "\n",
      "Confusion Matrix for F1-optimal threshold:\n",
      "         0   1    Error      Rate\n",
      "0      100 133 0.570815  =133/233\n",
      "1       40 494 0.074906   =40/534\n",
      "Totals 140 627 0.225554  =173/767\n",
      "\n",
      "Maximum Metrics: Maximum metrics at their respective thresholds\n",
      "                        metric threshold    value idx\n",
      "1                       max f1  0.528189 0.850991 307\n",
      "2                       max f2  0.328556 0.924835 386\n",
      "3                 max f0point5  0.655950 0.837428 229\n",
      "4                 max accuracy  0.528189 0.774446 307\n",
      "5                max precision  0.962081 1.000000   0\n",
      "6                   max recall  0.328556 1.000000 386\n",
      "7              max specificity  0.962081 1.000000   0\n",
      "8             max absolute_mcc  0.633872 0.452292 243\n",
      "9   max min_per_class_accuracy  0.675999 0.726592 217\n",
      "10 max mean_per_class_accuracy  0.655950 0.737036 229\n",
      "\n",
      "Gains/Lift Table: Extract with `h2o.gainsLift(<model>, <data>)` or `h2o.gainsLift(<model>, valid=<T/F>, xval=<T/F>)`\n",
      "\n",
      "\n",
      "\n",
      "Scoring History: \n",
      "            timestamp   duration iteration negative_log_likelihood objective\n",
      "1 2017-04-17 19:38:36  0.000 sec         0               470.96404   0.61403\n",
      "2 2017-04-17 19:38:36  0.037 sec         1               391.47936   0.54639\n",
      "3 2017-04-17 19:38:36  0.051 sec         2               387.08134   0.54480\n",
      "4 2017-04-17 19:38:37  0.068 sec         3               386.80849   0.54479\n",
      "5 2017-04-17 19:38:37  0.106 sec         4               378.62245   0.54253\n",
      "6 2017-04-17 19:38:37  0.112 sec         5               378.48524   0.54253\n",
      "\n",
      "Variable Importances: (Extract with `h2o.varimp`) \n",
      "=================================================\n",
      "\n",
      "Standardized Coefficient Magnitudes: standardized coefficient magnitudes\n",
      "                                names coefficients sign\n",
      "1                   Account Balance.4     0.834273  POS\n",
      "2                   Account Balance.1     0.463571  NEG\n",
      "3          Duration of Credit (month)     0.339717  NEG\n",
      "4 Payment Status of Previous Credit.4     0.272301  POS\n",
      "5               Instalment per cent.4     0.210977  NEG\n",
      "\n",
      "---\n",
      "                  names coefficients sign\n",
      "66 Concurrent Credits.2     0.000000  POS\n",
      "67   No of dependents.1     0.000000  POS\n",
      "68   No of dependents.2     0.000000  POS\n",
      "69          Telephone.1     0.000000  POS\n",
      "70          Telephone.2     0.000000  POS\n",
      "71  credit_amount_trnsf     0.000000  POS\n",
      "Standardized Coefficient Magnitudes: standardized coefficient magnitudes\n",
      "                                names coefficients sign\n",
      "1                   Account Balance.4     0.834273  POS\n",
      "2                   Account Balance.1     0.463571  NEG\n",
      "3          Duration of Credit (month)     0.339717  NEG\n",
      "4 Payment Status of Previous Credit.4     0.272301  POS\n",
      "5               Instalment per cent.4     0.210977  NEG\n",
      "\n",
      "---\n",
      "                  names coefficients sign\n",
      "66 Concurrent Credits.2     0.000000  POS\n",
      "67   No of dependents.1     0.000000  POS\n",
      "68   No of dependents.2     0.000000  POS\n",
      "69          Telephone.1     0.000000  POS\n",
      "70          Telephone.2     0.000000  POS\n",
      "71  credit_amount_trnsf     0.000000  POS\n"
     ]
    }
   ],
   "source": [
    "print(summary(glm_model1))"
   ]
  },
  {
   "cell_type": "code",
   "execution_count": 18,
   "metadata": {
    "collapsed": true
   },
   "outputs": [],
   "source": [
    "perf_obj <- h2o.performance(glm_model1, newdata = data.test)"
   ]
  },
  {
   "cell_type": "code",
   "execution_count": 19,
   "metadata": {},
   "outputs": [
    {
     "name": "stdout",
     "output_type": "stream",
     "text": [
      "H2OBinomialMetrics: glm\n",
      "\n",
      "MSE:  0.1831267\n",
      "RMSE:  0.4279331\n",
      "LogLoss:  0.5429005\n",
      "Mean Per-Class Error:  0.46426\n",
      "AUC:  0.7169574\n",
      "Gini:  0.4339148\n",
      "R^2:  0.1061169\n",
      "Null Deviance:  279.8683\n",
      "Residual Deviance:  252.9917\n",
      "AIC:  290.9917\n",
      "\n",
      "Confusion Matrix for F1-optimal threshold:\n",
      "       0   1    Error     Rate\n",
      "0      6  61 0.910448   =61/67\n",
      "1      3 163 0.018072   =3/166\n",
      "Totals 9 224 0.274678  =64/233\n",
      "\n",
      "Maximum Metrics: Maximum metrics at their respective thresholds\n",
      "                        metric threshold    value idx\n",
      "1                       max f1  0.360782 0.835897 223\n",
      "2                       max f2  0.211924 0.925307 232\n",
      "3                 max f0point5  0.702929 0.810398 121\n",
      "4                 max accuracy  0.472808 0.725322 203\n",
      "5                max precision  0.939168 1.000000   0\n",
      "6                   max recall  0.211924 1.000000 232\n",
      "7              max specificity  0.939168 1.000000   0\n",
      "8             max absolute_mcc  0.702929 0.362274 121\n",
      "9   max min_per_class_accuracy  0.668232 0.668675 132\n",
      "10 max mean_per_class_accuracy  0.702929 0.699874 121\n",
      "\n",
      "Gains/Lift Table: Extract with `h2o.gainsLift(<model>, <data>)` or `h2o.gainsLift(<model>, valid=<T/F>, xval=<T/F>)`"
     ]
    }
   ],
   "source": [
    "print(perf_obj)"
   ]
  },
  {
   "cell_type": "code",
   "execution_count": 23,
   "metadata": {},
   "outputs": [
    {
     "data": {
      "text/html": [
       "<ol>\n",
       "\t<li>0.291845493562232</li>\n",
       "</ol>\n"
      ],
      "text/latex": [
       "\\begin{enumerate}\n",
       "\\item 0.291845493562232\n",
       "\\end{enumerate}\n"
      ],
      "text/markdown": [
       "1. 0.291845493562232\n",
       "\n",
       "\n"
      ],
      "text/plain": [
       "[[1]]\n",
       "[1] 0.2918455\n"
      ]
     },
     "metadata": {},
     "output_type": "display_data"
    }
   ],
   "source": [
    "h2o.accuracy(perf_obj,0.939168338305063)"
   ]
  },
  {
   "cell_type": "code",
   "execution_count": 21,
   "metadata": {},
   "outputs": [
    {
     "name": "stdout",
     "output_type": "stream",
     "text": [
      "\r",
      "  |                                                                            \r",
      "  |                                                                      |   0%\r",
      "  |                                                                            \r",
      "  |======================================================================| 100%\n"
     ]
    },
    {
     "data": {
      "text/plain": [
       "  predict        p0        p1\n",
       "1       1 0.2970714 0.7029286\n",
       "2       0 0.5300577 0.4699423\n",
       "3       1 0.2398353 0.7601647\n",
       "4       1 0.3139088 0.6860912\n",
       "5       0 0.4860326 0.5139674\n",
       "6       1 0.1663972 0.8336028\n",
       "\n",
       "[233 rows x 3 columns] "
      ]
     },
     "metadata": {},
     "output_type": "display_data"
    }
   ],
   "source": [
    "pred_creditability <- h2o.predict(glm_model1,data.test)\n",
    "pred_creditability"
   ]
  },
  {
   "cell_type": "code",
   "execution_count": null,
   "metadata": {
    "collapsed": true
   },
   "outputs": [],
   "source": []
  }
 ],
 "metadata": {
  "anaconda-cloud": {},
  "kernelspec": {
   "display_name": "R [conda env:jupyter_r]",
   "language": "R",
   "name": "conda-env-jupyter_r-r"
  },
  "language_info": {
   "codemirror_mode": "r",
   "file_extension": ".r",
   "mimetype": "text/x-r-source",
   "name": "R",
   "pygments_lexer": "r",
   "version": "3.3.2"
  }
 },
 "nbformat": 4,
 "nbformat_minor": 1
}

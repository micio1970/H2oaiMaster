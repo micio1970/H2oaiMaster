{
 "cells": [
  {
   "cell_type": "code",
   "execution_count": 2,
   "metadata": {},
   "outputs": [
    {
     "ename": "ERROR",
     "evalue": "Error in library(mxnet): there is no package called ‘mxnet’\n",
     "output_type": "error",
     "traceback": [
      "Error in library(mxnet): there is no package called ‘mxnet’\nTraceback:\n",
      "1. library(mxnet)",
      "2. stop(txt, domain = NA)"
     ]
    }
   ],
   "source": [
    "library(mxnet)\n",
    "hr_data <- read.csv(\"../data/HR.csv\")\n",
    "head(hr_data)\n",
    "str(hr_data)\n",
    "summary(hr_data)\n"
   ]
  },
  {
   "cell_type": "code",
   "execution_count": null,
   "metadata": {
    "collapsed": true
   },
   "outputs": [],
   "source": [
    "#Convert some variables to factors\n",
    "hr_data$sales<-as.factor(hr_data$sales)\n",
    "hr_data$salary<-as.factor(hr_data$salary)\n",
    "hr_data$Work_accident <-as.factor(hr_data$Work_accident)\n",
    "hr_data$promotion_last_5years <-as.factor(hr_data$promotion_last_5years)\n",
    "smp_size <- floor(0.70 * nrow(hr_data))\n",
    "## set the seed to make your partition reproductible\n",
    "set.seed(1)\n",
    "train_ind <- sample(seq_len(nrow(hr_data)), size = smp_size)\n",
    "\n",
    "train <- hr_data[train_ind, ]\n",
    "test <- hr_data[-train_ind, ]\n",
    "\n",
    "train.preds <- data.matrix(train[,! colnames(hr_data) %in% c(\"left\")])\n",
    "train.target <- train$left\n",
    "head(train.preds)\n",
    "head(train.target)\n",
    "\n",
    "test.preds <- data.matrix(test[,! colnames(hr_data) %in% c(\"left\")])\n",
    "test.target <- test$left\n",
    "head(test.preds)\n",
    "head(test.target)\n",
    "\n",
    "#set seed to reproduce results\n",
    "mx.set.seed(1)\n",
    "\n",
    "mlpmodel <- mx.mlp(data = train.preds\n",
    "                    ,label = train.target\n",
    "                    ,hidden_node = c(3,2) #two layers- 1st Layer with 3 nodes and 2nd with 2 nodes\n",
    "                    ,out_node = 2 #Number of output nodes\n",
    "                    ,activation=\"sigmoid\" #activation function for hidden layers\n",
    "                    ,out_activation = \"softmax\" \n",
    "                    ,num.round = 10 #number of iterations\n",
    "                    ,array.batch.size = 5 #Batch size for updating weights\n",
    "                    ,learning.rate = 0.03 #same as step size\n",
    "                    ,eval.metric= mx.metric.accuracy\n",
    "                    ,eval.data = list(data = test.preds, label = test.target))\n",
    "\t\t\t\t\t\n",
    " #make a prediction\n",
    "preds <- predict(mlpmodel, test.x)\n",
    "dim(preds)\n",
    "\n",
    "#configure the network structure\n",
    "data <- mx.symbol.Variable(\"data\")\n",
    "fc1 <- mx.symbol.FullyConnected(data, name = \"fc1\", num_hidden=3) #1st hidden layer with activation function sigmoid\n",
    "act1 <- mx.symbol.Activation(fc1, name = \"sig\", act_type=\"sigmoid\") \n",
    "fc2 <- mx.symbol.FullyConnected(act1, name = \"fc2\", num_hidden=2) #2nd hidden layer with activation function relu\n",
    "act2 <- mx.symbol.Activation(fc2, name = \"relu\", act_type=\"relu\") \n",
    "out <- mx.symbol.SoftmaxOutput(act2, name = \"soft\")\n",
    "\n",
    "#train the network\n",
    "dp_model <- mx.model.FeedForward.create(symbol = out\n",
    "                                         ,X = train.preds\n",
    "                                         ,y = train.target\n",
    "                                         ,ctx = mx.cpu()\n",
    "                                         ,num.round = 10\n",
    "                                         ,eval.metric = mx.metric.accuracy\n",
    "                                         ,array.batch.size = 50\n",
    "                                         ,learning.rate = 0.005\n",
    " ,eval.data = list(data = test.preds, label = test.target))\n",
    " \n",
    " graph.viz(mlpmodel$symbol$as.json())\n",
    " \n",
    " #make a prediction\n",
    "preds <- predict(dp_model, test.preds)\n",
    "preds.target <- apply(data.frame(preds[1,]), 1, function(x) {ifelse(x >0.5, 1, 0)})\n",
    "table(test.target,preds.target)\n"
   ]
  },
  {
   "cell_type": "code",
   "execution_count": null,
   "metadata": {
    "collapsed": true
   },
   "outputs": [],
   "source": []
  },
  {
   "cell_type": "code",
   "execution_count": null,
   "metadata": {
    "collapsed": true
   },
   "outputs": [],
   "source": []
  },
  {
   "cell_type": "code",
   "execution_count": null,
   "metadata": {
    "collapsed": true
   },
   "outputs": [],
   "source": []
  },
  {
   "cell_type": "code",
   "execution_count": null,
   "metadata": {
    "collapsed": true
   },
   "outputs": [],
   "source": []
  },
  {
   "cell_type": "code",
   "execution_count": null,
   "metadata": {
    "collapsed": true
   },
   "outputs": [],
   "source": []
  },
  {
   "cell_type": "code",
   "execution_count": null,
   "metadata": {
    "collapsed": true
   },
   "outputs": [],
   "source": []
  },
  {
   "cell_type": "code",
   "execution_count": null,
   "metadata": {
    "collapsed": true
   },
   "outputs": [],
   "source": []
  }
 ],
 "metadata": {
  "kernelspec": {
   "display_name": "R [conda env:jupyter_r]",
   "language": "R",
   "name": "conda-env-jupyter_r-r"
  },
  "language_info": {
   "codemirror_mode": "r",
   "file_extension": ".r",
   "mimetype": "text/x-r-source",
   "name": "R",
   "pygments_lexer": "r",
   "version": "3.3.2"
  }
 },
 "nbformat": 4,
 "nbformat_minor": 2
}

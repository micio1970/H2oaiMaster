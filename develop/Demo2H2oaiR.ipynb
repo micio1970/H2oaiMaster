{
 "cells": [
  {
   "cell_type": "code",
   "execution_count": 1,
   "metadata": {
    "collapsed": false
   },
   "outputs": [
    {
     "name": "stderr",
     "output_type": "stream",
     "text": [
      "\n",
      "----------------------------------------------------------------------\n",
      "\n",
      "Your next step is to start H2O:\n",
      "    > h2o.init()\n",
      "\n",
      "For H2O package documentation, ask for help:\n",
      "    > ??h2o\n",
      "\n",
      "After starting H2O, you can use the Web UI at http://localhost:54321\n",
      "For more information visit http://docs.h2o.ai\n",
      "\n",
      "----------------------------------------------------------------------\n",
      "\n",
      "\n",
      "Attaching package: ‘h2o’\n",
      "\n",
      "The following objects are masked from ‘package:stats’:\n",
      "\n",
      "    cor, sd, var\n",
      "\n",
      "The following objects are masked from ‘package:base’:\n",
      "\n",
      "    &&, %*%, %in%, ||, apply, as.factor, as.numeric, colnames,\n",
      "    colnames<-, ifelse, is.character, is.factor, is.numeric, log,\n",
      "    log10, log1p, log2, round, signif, trunc\n",
      "\n"
     ]
    },
    {
     "name": "stdout",
     "output_type": "stream",
     "text": [
      " Connection successful!\n",
      "\n",
      "R is connected to the H2O cluster: \n",
      "    H2O cluster uptime:         1 hours 11 minutes \n",
      "    H2O cluster version:        3.10.2.2 \n",
      "    H2O cluster version age:    1 month and 6 days  \n",
      "    H2O cluster name:           H2O_started_from_R_micio1970_hro550 \n",
      "    H2O cluster total nodes:    1 \n",
      "    H2O cluster total memory:   1.55 GB \n",
      "    H2O cluster total cores:    4 \n",
      "    H2O cluster allowed cores:  4 \n",
      "    H2O cluster healthy:        TRUE \n",
      "    H2O Connection ip:          localhost \n",
      "    H2O Connection port:        54321 \n",
      "    H2O Connection proxy:       NA \n",
      "    R Version:                  R version 3.3.2 (2016-10-31) \n",
      "\n",
      "  |======================================================================| 100%\n",
      "  |======================================================================| 100%\n",
      "  |======================================================================| 100%\n"
     ]
    },
    {
     "data": {
      "text/plain": [
       "   predict\n",
       "1 1.549396\n",
       "2 1.756449\n",
       "3 2.538482\n",
       "4 2.029516\n",
       "5 2.582536\n",
       "6 1.933579\n",
       "\n",
       "[33 rows x 1 column] "
      ]
     },
     "metadata": {},
     "output_type": "display_data"
    }
   ],
   "source": [
    "# Please download the iris.csv from\n",
    "#https://raw.githubusercontent.com/vincentarelbundock/Rdatasets/master/csv/datasets/iris.csv and use it.\n",
    "# replace C:/futuretext/iris.csv with your data location\n",
    "library(h2o)\n",
    "h2o.init(nthreads = -1)\n",
    "train.hex <- h2o.importFile(\"../data/iris.csv\")\n",
    "splits <- h2o.splitFrame(train.hex, 0.75, seed=1234)\n",
    "train.x <- setdiff(colnames(train.hex), c(\"Petal.Length\",\"C1\"))\n",
    "train.y <- \"Petal.Length\"\n",
    "dl <- h2o.deeplearning(x=train.x , y=train.y,\n",
    "training_frame=splits[[1]],\n",
    "distribution=\"quantile\", quantile_alpha=0.8)\n",
    "h2o.predict(dl, splits[[2]])"
   ]
  },
  {
   "cell_type": "code",
   "execution_count": null,
   "metadata": {
    "collapsed": true
   },
   "outputs": [],
   "source": []
  }
 ],
 "metadata": {
  "anaconda-cloud": {},
  "kernelspec": {
   "display_name": "R [jupyter_r]",
   "language": "R",
   "name": "R [jupyter_r]"
  },
  "language_info": {
   "codemirror_mode": "r",
   "file_extension": ".r",
   "mimetype": "text/x-r-source",
   "name": "R",
   "pygments_lexer": "r",
   "version": "3.3.2"
  }
 },
 "nbformat": 4,
 "nbformat_minor": 0
}

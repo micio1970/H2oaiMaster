{
 "cells": [
  {
   "cell_type": "code",
   "execution_count": 5,
   "metadata": {
    "collapsed": false
   },
   "outputs": [],
   "source": [
    "import h2o"
   ]
  },
  {
   "cell_type": "code",
   "execution_count": 6,
   "metadata": {
    "collapsed": false
   },
   "outputs": [
    {
     "name": "stdout",
     "output_type": "stream",
     "text": [
      "Connecting to H2O server at http://localhost:54321... successful!\n"
     ]
    },
    {
     "data": {
      "text/html": [
       "<div style=\"overflow:auto\"><table style=\"width:50%\"><tr><td>H2O cluster uptime:</td>\n",
       "<td>2 hours 10 mins</td></tr>\n",
       "<tr><td>H2O cluster version:</td>\n",
       "<td>3.10.2.2</td></tr>\n",
       "<tr><td>H2O cluster version age:</td>\n",
       "<td>1 month and 6 days </td></tr>\n",
       "<tr><td>H2O cluster name:</td>\n",
       "<td>H2O_started_from_R_micio1970_hro550</td></tr>\n",
       "<tr><td>H2O cluster total nodes:</td>\n",
       "<td>1</td></tr>\n",
       "<tr><td>H2O cluster free memory:</td>\n",
       "<td>1.584 Gb</td></tr>\n",
       "<tr><td>H2O cluster total cores:</td>\n",
       "<td>4</td></tr>\n",
       "<tr><td>H2O cluster allowed cores:</td>\n",
       "<td>4</td></tr>\n",
       "<tr><td>H2O cluster is healthy:</td>\n",
       "<td>True</td></tr>\n",
       "<tr><td>H2O cluster is locked:</td>\n",
       "<td>True</td></tr>\n",
       "<tr><td>H2O connection url:</td>\n",
       "<td>http://localhost:54321</td></tr>\n",
       "<tr><td>H2O connection proxy:</td>\n",
       "<td>None</td></tr>\n",
       "<tr><td>Python version:</td>\n",
       "<td>3.5.1 final</td></tr></table></div>"
      ],
      "text/plain": [
       "--------------------------  -----------------------------------\n",
       "H2O cluster uptime:         2 hours 10 mins\n",
       "H2O cluster version:        3.10.2.2\n",
       "H2O cluster version age:    1 month and 6 days\n",
       "H2O cluster name:           H2O_started_from_R_micio1970_hro550\n",
       "H2O cluster total nodes:    1\n",
       "H2O cluster free memory:    1.584 Gb\n",
       "H2O cluster total cores:    4\n",
       "H2O cluster allowed cores:  4\n",
       "H2O cluster is healthy:     True\n",
       "H2O cluster is locked:      True\n",
       "H2O connection url:         http://localhost:54321\n",
       "H2O connection proxy:\n",
       "Python version:             3.5.1 final\n",
       "--------------------------  -----------------------------------"
      ]
     },
     "metadata": {},
     "output_type": "display_data"
    },
    {
     "ename": "H2OConnectionError",
     "evalue": "Version mismatch. H2O is version 3.10.2.2, but the h2o-python package is version 3.10.0.3. Install the matching h2o-Python version from - http://h2o-release.s3.amazonaws.com/h2o/rel-tutte/2/index.html.",
     "output_type": "error",
     "traceback": [
      "\u001b[1;31m---------------------------------------------------------------------------\u001b[0m",
      "\u001b[1;31mH2OConnectionError\u001b[0m                        Traceback (most recent call last)",
      "\u001b[1;32m<ipython-input-6-e7cfdc50af66>\u001b[0m in \u001b[0;36m<module>\u001b[1;34m()\u001b[0m\n\u001b[1;32m----> 1\u001b[1;33m \u001b[0mh2o\u001b[0m\u001b[1;33m.\u001b[0m\u001b[0minit\u001b[0m\u001b[1;33m(\u001b[0m\u001b[1;33m)\u001b[0m\u001b[1;33m\u001b[0m\u001b[0m\n\u001b[0m",
      "\u001b[1;32m/home/micio1970/.local/lib/python3.5/site-packages/h2o/h2o.py\u001b[0m in \u001b[0;36minit\u001b[1;34m(url, ip, port, https, insecure, username, password, cluster_name, proxy, start_h2o, nthreads, ice_root, enable_assertions, max_mem_size, min_mem_size, strict_version_check, **kwargs)\u001b[0m\n",
      "\u001b[1;32m/home/micio1970/.local/lib/python3.5/site-packages/h2o/h2o.py\u001b[0m in \u001b[0;36mversion_check\u001b[1;34m()\u001b[0m\n",
      "\u001b[1;31mH2OConnectionError\u001b[0m: Version mismatch. H2O is version 3.10.2.2, but the h2o-python package is version 3.10.0.3. Install the matching h2o-Python version from - http://h2o-release.s3.amazonaws.com/h2o/rel-tutte/2/index.html."
     ]
    }
   ],
   "source": [
    "h2o.init()"
   ]
  },
  {
   "cell_type": "code",
   "execution_count": null,
   "metadata": {
    "collapsed": true
   },
   "outputs": [],
   "source": []
  },
  {
   "cell_type": "code",
   "execution_count": null,
   "metadata": {
    "collapsed": true
   },
   "outputs": [],
   "source": []
  }
 ],
 "metadata": {
  "anaconda-cloud": {},
  "kernelspec": {
   "display_name": "Python [Root]",
   "language": "python",
   "name": "Python [Root]"
  },
  "language_info": {
   "codemirror_mode": {
    "name": "ipython",
    "version": 3
   },
   "file_extension": ".py",
   "mimetype": "text/x-python",
   "name": "python",
   "nbconvert_exporter": "python",
   "pygments_lexer": "ipython3",
   "version": "3.5.1"
  }
 },
 "nbformat": 4,
 "nbformat_minor": 0
}

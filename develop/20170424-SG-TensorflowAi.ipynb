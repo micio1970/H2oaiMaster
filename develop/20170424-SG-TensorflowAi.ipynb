{
 "cells": [
  {
   "cell_type": "code",
   "execution_count": 4,
   "metadata": {
    "collapsed": false
   },
   "outputs": [
    {
     "name": "stdout",
     "output_type": "stream",
     "text": [
      "Extracting MNIST_data/train-images-idx3-ubyte.gz\n",
      "Extracting MNIST_data/train-labels-idx1-ubyte.gz\n",
      "Extracting MNIST_data/t10k-images-idx3-ubyte.gz\n",
      "Extracting MNIST_data/t10k-labels-idx1-ubyte.gz\n"
     ]
    }
   ],
   "source": [
    "from __future__ import print_function\n",
    "\n",
    "import tensorflow as tf\n",
    "\n",
    "# Import MNIST data\n",
    "from tensorflow.examples.tutorials.mnist import input_data\n",
    "mnist = input_data.read_data_sets(\"MNIST_data/\", one_hot=True)\n",
    "\n",
    "# Parameters\n",
    "learning_rate = 0.01\n",
    "training_epochs = 25\n",
    "batch_size = 100\n",
    "display_step = 1\n",
    "\n"
   ]
  },
  {
   "cell_type": "code",
   "execution_count": 5,
   "metadata": {
    "collapsed": true
   },
   "outputs": [],
   "source": [
    "# tf Graph Input\n",
    "x = tf.placeholder(tf.float32, [None, 784]) # mnist data image of shape 28*28=784\n",
    "y = tf.placeholder(tf.float32, [None, 10]) # 0-9 digits recognition => 10 classes\n",
    "\n",
    "# Set model weights\n",
    "W = tf.Variable(tf.zeros([784, 10]))\n",
    "b = tf.Variable(tf.zeros([10]))\n",
    "\n",
    "# Construct model\n",
    "pred = tf.nn.softmax(tf.matmul(x, W) + b) # Softmax for output probablity\n",
    "\n",
    "# Minimize error using cross entropy\n",
    "cost = tf.reduce_mean(-tf.reduce_sum(y*tf.log(pred), reduction_indices=1))\n",
    "# Gradient Descent\n",
    "optimizer = tf.train.GradientDescentOptimizer(learning_rate).minimize(cost)\n",
    "\n",
    "# Initializing the variables\n",
    "init = tf.global_variables_initializer()\n",
    "\n"
   ]
  },
  {
   "cell_type": "code",
   "execution_count": 10,
   "metadata": {
    "collapsed": false
   },
   "outputs": [
    {
     "name": "stdout",
     "output_type": "stream",
     "text": [
      "Epoch: 0001 cost= 1.184215362\n",
      "Optimization Finished!\n",
      "Accuracy: 0.8512\n",
      "Epoch: 0002 cost= 0.665442764\n",
      "Optimization Finished!\n",
      "Accuracy: 0.8732\n",
      "Epoch: 0003 cost= 0.552885519\n",
      "Optimization Finished!\n",
      "Accuracy: 0.8821\n",
      "Epoch: 0004 cost= 0.498674013\n",
      "Optimization Finished!\n",
      "Accuracy: 0.8862\n",
      "Epoch: 0005 cost= 0.465470082\n",
      "Optimization Finished!\n",
      "Accuracy: 0.8926\n",
      "Epoch: 0006 cost= 0.442538116\n",
      "Optimization Finished!\n",
      "Accuracy: 0.8941\n",
      "Epoch: 0007 cost= 0.425505717\n",
      "Optimization Finished!\n",
      "Accuracy: 0.8987\n",
      "Epoch: 0008 cost= 0.412152627\n",
      "Optimization Finished!\n",
      "Accuracy: 0.9001\n",
      "Epoch: 0009 cost= 0.401332922\n",
      "Optimization Finished!\n",
      "Accuracy: 0.9018\n",
      "Epoch: 0010 cost= 0.392403615\n",
      "Optimization Finished!\n",
      "Accuracy: 0.9033\n",
      "Epoch: 0011 cost= 0.384751962\n",
      "Optimization Finished!\n",
      "Accuracy: 0.9045\n",
      "Epoch: 0012 cost= 0.378139112\n",
      "Optimization Finished!\n",
      "Accuracy: 0.9065\n",
      "Epoch: 0013 cost= 0.372421422\n",
      "Optimization Finished!\n",
      "Accuracy: 0.9066\n",
      "Epoch: 0014 cost= 0.367278771\n",
      "Optimization Finished!\n",
      "Accuracy: 0.9067\n",
      "Epoch: 0015 cost= 0.362711139\n",
      "Optimization Finished!\n",
      "Accuracy: 0.9084\n",
      "Epoch: 0016 cost= 0.358637809\n",
      "Optimization Finished!\n",
      "Accuracy: 0.9094\n",
      "Epoch: 0017 cost= 0.354878639\n",
      "Optimization Finished!\n",
      "Accuracy: 0.9096\n",
      "Epoch: 0018 cost= 0.351437983\n",
      "Optimization Finished!\n",
      "Accuracy: 0.9106\n",
      "Epoch: 0019 cost= 0.348301322\n",
      "Optimization Finished!\n",
      "Accuracy: 0.9107\n",
      "Epoch: 0020 cost= 0.345450107\n",
      "Optimization Finished!\n",
      "Accuracy: 0.9119\n",
      "Epoch: 0021 cost= 0.342743502\n",
      "Optimization Finished!\n",
      "Accuracy: 0.9121\n",
      "Epoch: 0022 cost= 0.340244295\n",
      "Optimization Finished!\n",
      "Accuracy: 0.9129\n",
      "Epoch: 0023 cost= 0.337957848\n",
      "Optimization Finished!\n",
      "Accuracy: 0.9128\n",
      "Epoch: 0024 cost= 0.335749747\n",
      "Optimization Finished!\n",
      "Accuracy: 0.9142\n",
      "Epoch: 0025 cost= 0.333680465\n",
      "Optimization Finished!\n",
      "Accuracy: 0.9135\n"
     ]
    }
   ],
   "source": [
    "# Launch the graph\n",
    "with tf.Session() as sess:\n",
    "    sess.run(init)\n",
    "\n",
    "    # Training cycle\n",
    "    for epoch in range(training_epochs):\n",
    "        avg_cost = 0.\n",
    "        total_batch = int(mnist.train.num_examples/batch_size)\n",
    "        # Loop over all batches\n",
    "        for i in range(total_batch):\n",
    "            batch_xs, batch_ys = mnist.train.next_batch(batch_size)\n",
    "            # Run optimization op (backprop) and cost op (to get loss value)\n",
    "            _, c = sess.run([optimizer, cost], feed_dict={x: batch_xs,\n",
    "                                                          y: batch_ys})\n",
    "            # Compute average loss\n",
    "            avg_cost += c / total_batch\n",
    "        # Display logs per epoch step\n",
    "        if (epoch+1) % display_step == 0:\n",
    "            print(\"Epoch:\", '%04d' % (epoch+1), \"cost=\", \"{:.9f}\".format(avg_cost))\n",
    "            print(\"Optimization Finished!\")\n",
    "\n",
    "        # Test model\n",
    "        correct_prediction = tf.equal(tf.argmax(pred, 1), tf.argmax(y, 1))\n",
    "        # Calculate accuracy\n",
    "        accuracy = tf.reduce_mean(tf.cast(correct_prediction, tf.float32))\n",
    "        print(\"Accuracy:\", accuracy.eval({x: mnist.test.images, y: mnist.test.labels}))\n",
    "\n"
   ]
  },
  {
   "cell_type": "code",
   "execution_count": null,
   "metadata": {
    "collapsed": true
   },
   "outputs": [],
   "source": []
  }
 ],
 "metadata": {
  "anaconda-cloud": {},
  "kernelspec": {
   "display_name": "Python [Root]",
   "language": "python",
   "name": "Python [Root]"
  },
  "language_info": {
   "codemirror_mode": {
    "name": "ipython",
    "version": 3
   },
   "file_extension": ".py",
   "mimetype": "text/x-python",
   "name": "python",
   "nbconvert_exporter": "python",
   "pygments_lexer": "ipython3",
   "version": "3.5.1"
  }
 },
 "nbformat": 4,
 "nbformat_minor": 0
}
